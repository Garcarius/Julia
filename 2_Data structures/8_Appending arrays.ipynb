{
 "cells": [
  {
   "attachments": {},
   "cell_type": "markdown",
   "metadata": {},
   "source": [
    "# Appending arrays\n",
    "You are once again examining your run times. Since you last looked at these values, you have been on more runs. You have also realized that you made a mistake in recording your run times previously - you accidentally added the time of your last run twice.\n",
    "\n",
    "You want to remove this duplicated value and add your new run times to the array.\n",
    "\n",
    "The array of your previous run times, named `runtimes`, and the array of your new run times, named `new_runtimes`, are already defined for you.\n",
    "\n",
    "Remember that functions that end with an **!** modify their arguments. Other functions will not do this."
   ]
  },
  {
   "attachments": {},
   "cell_type": "markdown",
   "metadata": {},
   "source": [
    "* Use the `pop!()` function to remove the last value of the runtimes array to get rid of the duplicated value.\n",
    "* Use the `append!()` function to add your new run times to the `runtimes` array."
   ]
  },
  {
   "cell_type": "code",
   "execution_count": 3,
   "metadata": {},
   "outputs": [
    {
     "ename": "MethodError",
     "evalue": "MethodError: no method matching append!(::Float64, ::Vector{Float64})\nClosest candidates are:\n  append!(!Matched::BitVector, ::Any) at bitarray.jl:786\n  append!(!Matched::Vector, ::AbstractVector) at array.jl:1105\n  append!(!Matched::AbstractVector, ::Any) at array.jl:1113\n  ...",
     "output_type": "error",
     "traceback": [
      "MethodError: no method matching append!(::Float64, ::Vector{Float64})\n",
      "Closest candidates are:\n",
      "  append!(!Matched::BitVector, ::Any) at bitarray.jl:786\n",
      "  append!(!Matched::Vector, ::AbstractVector) at array.jl:1105\n",
      "  append!(!Matched::AbstractVector, ::Any) at array.jl:1113\n",
      "  ...\n",
      "\n",
      "Stacktrace:\n",
      " [1] top-level scope\n",
      "   @ d:\\Cursos\\Julia\\2_Data structures\\8_Appending arrays.ipynb:8"
     ]
    }
   ],
   "source": [
    "runtimes = [35.1, 34.0, 34.31, 32.8, 32.04, 33.66, 32.41, 32.32, 33.37, 31.4, 31.4]\n",
    "new_runtimes = [30.44, 31.21, 30.38, 30.52, 30.2]\n",
    "\n",
    "# Remove the duplicated value\n",
    "duplicated_value = pop!(runtimes)\n",
    "\n",
    "# Append new runtimes and new_runtimes\n",
    "append!(runtimes,new_runtimes)\n",
    "\n",
    "println(\"Duplicated value $duplicated_value\")\n",
    "println(\"All run times: $runtimes\")"
   ]
  }
 ],
 "metadata": {
  "kernelspec": {
   "display_name": "Julia 1.8.5",
   "language": "julia",
   "name": "julia-1.8"
  },
  "language_info": {
   "file_extension": ".jl",
   "mimetype": "application/julia",
   "name": "julia",
   "version": "1.8.5"
  },
  "orig_nbformat": 4,
  "vscode": {
   "interpreter": {
    "hash": "7824406444212d923fa81ea6d69417b7ddef86b1ecd218c44d304e50b9505925"
   }
  }
 },
 "nbformat": 4,
 "nbformat_minor": 2
}
