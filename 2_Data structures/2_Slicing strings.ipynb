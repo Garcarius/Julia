{
 "cells": [
  {
   "attachments": {},
   "cell_type": "markdown",
   "metadata": {},
   "source": [
    "# Slicing strings\n",
    "When working with text data, slicing out the pieces you need is very important. Using this method, you can often turn text data into neat, structured data.\n",
    "\n",
    "In this example, you are extracting information from a string of data regarding a customer's order at an online shop.\n",
    "\n",
    "The string you are examining is:\n",
    "\n",
    "`order_data = \"| customer-id: 13415 | order-number: 000019034 |\"`\n",
    "\n",
    "The customer-id number is a 5-digit number starting from the 16th character of the string. The order-number is an 9-digit number starting from the 38th character of the string.\n",
    "\n",
    "The string `order_data` is available in your environment.\n"
   ]
  },
  {
   "cell_type": "code",
   "execution_count": 1,
   "metadata": {},
   "outputs": [],
   "source": [
    "order_data = \"| customer-id: 13415 | order-number: 000019034 |\";"
   ]
  },
  {
   "attachments": {},
   "cell_type": "markdown",
   "metadata": {},
   "source": [
    "* Slice the customer-id out of the string order_data and assign it to the variable customer_id"
   ]
  },
  {
   "cell_type": "code",
   "execution_count": 3,
   "metadata": {},
   "outputs": [
    {
     "data": {
      "text/plain": [
       "\"13415\""
      ]
     },
     "metadata": {},
     "output_type": "display_data"
    }
   ],
   "source": [
    "# Slice out the customer-id\n",
    "customer_id = order_data[16:20]"
   ]
  },
  {
   "attachments": {},
   "cell_type": "markdown",
   "metadata": {},
   "source": [
    "* Slice the order-number out of the string `order_data` and assign it to the variable `order_number`"
   ]
  },
  {
   "cell_type": "code",
   "execution_count": 5,
   "metadata": {},
   "outputs": [
    {
     "data": {
      "text/plain": [
       "\"000019034\""
      ]
     },
     "metadata": {},
     "output_type": "display_data"
    }
   ],
   "source": [
    "# Slice out the customer-id\n",
    "customer_id = order_data[16:20]\n",
    "\n",
    "# Slice out the order-number\n",
    "order_number = order_data[end-10:end-2]"
   ]
  }
 ],
 "metadata": {
  "kernelspec": {
   "display_name": "Julia 1.8.5",
   "language": "julia",
   "name": "julia-1.8"
  },
  "language_info": {
   "file_extension": ".jl",
   "mimetype": "application/julia",
   "name": "julia",
   "version": "1.8.5"
  },
  "orig_nbformat": 4
 },
 "nbformat": 4,
 "nbformat_minor": 2
}
