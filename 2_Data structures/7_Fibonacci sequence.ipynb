{
 "cells": [
  {
   "attachments": {},
   "cell_type": "markdown",
   "metadata": {},
   "source": [
    "# Fibonacci sequence\n",
    "You are working on a script to calculate the Fibonacci sequence. The Fibonacci sequence is a famous sequence of numbers that appears in nature in many places.\n",
    "\n",
    "The first two numbers in the sequence are 0 and 1. The numbers after that are each equal to the sum of the two numbers which come before them. So the start of the sequence is `0, 1, 1, 2, 3, 5,....`\n",
    "\n",
    "The first several digits of the Fibonacci sequence have been calculated for you and are stored in the integer array fibonacci, which is available in your environment.\n",
    "\n",
    "* Calculate the next number in the sequence fibonacci by adding its last two terms.\n",
    "* Add the new term to the end of the fibonacci array using the push!() function."
   ]
  },
  {
   "cell_type": "code",
   "execution_count": 1,
   "metadata": {},
   "outputs": [
    {
     "name": "stdout",
     "output_type": "stream",
     "text": [
      "[0, 1, 1, 2, 3, 5, 8, 13, 21]\n"
     ]
    }
   ],
   "source": [
    "fibonacci= [0,1,1,2,3,5,8,13]\n",
    "\n",
    "# Calculate the next number in the sequence\n",
    "next_number = fibonacci[end] + fibonacci[end-1]\n",
    "\n",
    "# Add this new number to the sequence\n",
    "push!(fibonacci, next_number)\n",
    "\n",
    "println(fibonacci)"
   ]
  }
 ],
 "metadata": {
  "kernelspec": {
   "display_name": "Julia 1.8.5",
   "language": "julia",
   "name": "julia-1.8"
  },
  "language_info": {
   "file_extension": ".jl",
   "mimetype": "application/julia",
   "name": "julia",
   "version": "1.8.5"
  },
  "orig_nbformat": 4
 },
 "nbformat": 4,
 "nbformat_minor": 2
}
