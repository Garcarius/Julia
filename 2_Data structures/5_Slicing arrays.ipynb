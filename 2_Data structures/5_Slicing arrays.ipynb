{
 "cells": [
  {
   "attachments": {},
   "cell_type": "markdown",
   "metadata": {},
   "source": [
    "# Slicing arrays\n",
    "Slicing is a key skill you will need to work with arrays. You will often use slicing to select specific parts of the datasets you are working with. The elements of data you exclude can be as important as those you include.\n",
    "\n",
    "In this exercise, you will be slicing sections out of the following array, which is available in your environment:\n",
    "`x = ['a', 'b', 'c', 'd', 'e', 'f', 'g']`\n",
    "\n",
    "Which of the following commands will slice out the array `['b', 'c','d']`?"
   ]
  },
  {
   "cell_type": "code",
   "execution_count": null,
   "metadata": {},
   "outputs": [],
   "source": [
    "x = ['a', 'b', 'c', 'd', 'e', 'f', 'g']\n",
    "x[2:4]"
   ]
  }
 ],
 "metadata": {
  "kernelspec": {
   "display_name": "Julia 1.8.5",
   "language": "julia",
   "name": "julia-1.8"
  },
  "language_info": {
   "file_extension": ".jl",
   "mimetype": "application/julia",
   "name": "julia",
   "version": "1.8.5"
  },
  "orig_nbformat": 4
 },
 "nbformat": 4,
 "nbformat_minor": 2
}
