{
 "cells": [
  {
   "attachments": {},
   "cell_type": "markdown",
   "metadata": {},
   "source": [
    "# Converting types\n",
    "Integers, floats, and strings are the most common data types you will encounter when working with Julia. Certain operations can only be performed on certain data types, and some operations work differently based on the data type.\n",
    "\n",
    "For example, in Julia `3*2` will return `6`, but `\"3\"*\"2\"` will return `\"32\"`. These kinds of bugs can crash your code or ruin your analysis, so it is important to know how to convert between types.\n",
    "\n",
    "- Convert the float `a_float` into an integer, assign it to a new variable named `a_int`, and print `a_int`'s type."
   ]
  },
  {
   "cell_type": "code",
   "execution_count": 3,
   "metadata": {},
   "outputs": [
    {
     "name": "stdout",
     "output_type": "stream",
     "text": [
      "Int64\n"
     ]
    }
   ],
   "source": [
    "a_float = 3.0\n",
    "\n",
    "# Convert a_float to be an integer and print its new type\n",
    "a_int = Int64(a_float)\n",
    "\n",
    "println(typeof(a_int))"
   ]
  },
  {
   "attachments": {},
   "cell_type": "markdown",
   "metadata": {},
   "source": [
    "2. Convert the integer b_int from an integer to a float, and assign the result to b_float"
   ]
  },
  {
   "cell_type": "code",
   "execution_count": 4,
   "metadata": {},
   "outputs": [
    {
     "name": "stdout",
     "output_type": "stream",
     "text": [
      "b_float is a Float64\n"
     ]
    }
   ],
   "source": [
    "b_int = 3\n",
    "\n",
    "# Convert b into a float\n",
    "b_float = Float64(b_int)\n",
    "\n",
    "println(\"b_float is a \", typeof(b_float))"
   ]
  },
  {
   "attachments": {},
   "cell_type": "markdown",
   "metadata": {},
   "source": [
    "- Convert the integer c_int into a string and assign it to the variable c_string."
   ]
  },
  {
   "cell_type": "code",
   "execution_count": 5,
   "metadata": {},
   "outputs": [
    {
     "name": "stdout",
     "output_type": "stream",
     "text": [
      "c_string is a String\n"
     ]
    }
   ],
   "source": [
    "c_int = 10\n",
    "\n",
    "# Convert c_int into a string\n",
    "c_string = string(c_int)\n",
    "\n",
    "println(\"c_string is a \", typeof(c_string))"
   ]
  },
  {
   "attachments": {},
   "cell_type": "markdown",
   "metadata": {},
   "source": [
    "Convert the string d_string into a float and assign it to the variable d_float."
   ]
  },
  {
   "cell_type": "code",
   "execution_count": 6,
   "metadata": {},
   "outputs": [
    {
     "name": "stdout",
     "output_type": "stream",
     "text": [
      "d_float is a Float64\n"
     ]
    }
   ],
   "source": [
    "d_string = \"3.1415\"\n",
    "\n",
    "# Convert d_string into a float\n",
    "d_float = parse(Float64, d_string)\n",
    "\n",
    "println(\"d_float is a \", typeof(d_float))"
   ]
  }
 ],
 "metadata": {
  "kernelspec": {
   "display_name": "Julia 1.8.5",
   "language": "julia",
   "name": "julia-1.8"
  },
  "language_info": {
   "file_extension": ".jl",
   "mimetype": "application/julia",
   "name": "julia",
   "version": "1.8.5"
  },
  "orig_nbformat": 4
 },
 "nbformat": 4,
 "nbformat_minor": 2
}
