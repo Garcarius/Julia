{
 "cells": [
  {
   "attachments": {},
   "cell_type": "markdown",
   "metadata": {},
   "source": [
    "- Writing your code into a script instead of the console means you will have it saved for later. This allows you to rerun the code, modify it and run it with different inputs, or check for any mistakes in the code you used earlier.\n",
    "\n",
    "Here you are writing a script to keep track of your hours worked throughout the week. You have been adding to it every day to get a total.\n",
    "- Add the comment on the line below\n",
    " Hours worked this week\n",
    "\n",
    " Add the hours worked"
   ]
  },
  {
   "cell_type": "code",
   "execution_count": 1,
   "metadata": {},
   "outputs": [
    {
     "data": {
      "text/plain": [
       "158.5"
      ]
     },
     "execution_count": 1,
     "metadata": {},
     "output_type": "execute_result"
    }
   ],
   "source": [
    "39+ 37.5 + 40+ 42"
   ]
  }
 ],
 "metadata": {
  "kernelspec": {
   "display_name": "Julia 1.8.5",
   "language": "julia",
   "name": "julia-1.8"
  },
  "language_info": {
   "file_extension": ".jl",
   "mimetype": "application/julia",
   "name": "julia",
   "version": "1.8.5"
  },
  "orig_nbformat": 4
 },
 "nbformat": 4,
 "nbformat_minor": 2
}
