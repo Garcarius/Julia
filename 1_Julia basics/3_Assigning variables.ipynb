{
 "cells": [
  {
   "attachments": {},
   "cell_type": "markdown",
   "metadata": {},
   "source": [
    "# Assigning variables\n",
    "Assigning variables means you can write more complex code. Using variables also makes the code you write more interpretable since you are labeling the pieces of information rather than having them as raw pieces of data.\n",
    "\n",
    "You are writing a script to calculate your average running pace from your last two runs. You want to assign your run times and distances to variables so you can process them later.\n",
    "\n",
    "- Assign the value 4500 to the variable monday_distance.\n",
    "- Assign the value 28.9 to the variable monday_time.\n",
    "- Assign the value 6000 to the variable wednesday_distance.\n",
    "- Assign the value 37.1 to the variable wednesday_time."
   ]
  },
  {
   "cell_type": "code",
   "execution_count": 1,
   "metadata": {},
   "outputs": [
    {
     "data": {
      "text/plain": [
       "37.1"
      ]
     },
     "execution_count": 1,
     "metadata": {},
     "output_type": "execute_result"
    }
   ],
   "source": [
    "# Create variable monday_distance\n",
    "monday_distance = 4500\n",
    "\n",
    "# Create variable monday_time\n",
    "monday_time = 28.9\n",
    "\n",
    "# Create variable wednesday_distance\n",
    "wednesday_distance = 6000\n",
    "\n",
    "# Create variable wednesday_time\n",
    "wednesday_time = 37.1"
   ]
  }
 ],
 "metadata": {
  "kernelspec": {
   "display_name": "Julia 1.8.5",
   "language": "julia",
   "name": "julia-1.8"
  },
  "language_info": {
   "file_extension": ".jl",
   "mimetype": "application/julia",
   "name": "julia",
   "version": "1.8.5"
  },
  "orig_nbformat": 4
 },
 "nbformat": 4,
 "nbformat_minor": 2
}
