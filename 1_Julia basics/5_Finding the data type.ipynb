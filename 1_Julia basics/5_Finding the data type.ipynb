{
 "cells": [
  {
   "attachments": {
    "image.png": {
     "image/png": "[encoded data removed]"
    }
   },
   "cell_type": "markdown",
   "metadata": {},
   "source": [
    "# Finding the data type\n",
    "When you perform a calculation, the data type of the result can be different than the data type of the inputs. This change in data types can happen without you realizing it and may cause your code to malfunction. Printing the data type of variables can help you track down issues caused by variables being a different data type than expected.\n",
    "\n",
    "In this script, you are analyzing your run times again. Your last two times (30 minutes and 33 minutes) to run 5 kilometers have been assigned to the variables `runtime_1` and `runtime_2`.\n",
    "\n",
    "In this exercise, you will find the average of your run times. You can find the average of two numbers, \n",
    "*x* and *y* , using:\n",
    "\n",
    "![image.png](attachment:image.png)"
   ]
  },
  {
   "cell_type": "code",
   "execution_count": 1,
   "metadata": {},
   "outputs": [
    {
     "data": {
      "text/plain": [
       "33"
      ]
     },
     "execution_count": 1,
     "metadata": {},
     "output_type": "execute_result"
    }
   ],
   "source": [
    "runtime_1 = 30\n",
    "runtime_2 = 33"
   ]
  },
  {
   "cell_type": "code",
   "execution_count": 2,
   "metadata": {},
   "outputs": [
    {
     "name": "stdout",
     "output_type": "stream",
     "text": [
      "Int64\n",
      "Int64\n",
      "31.5\n"
     ]
    }
   ],
   "source": [
    "# Print the type of runtime_1\n",
    "println(typeof(runtime_1))\n",
    "\n",
    "# Print the type of runtime_2\n",
    "println(typeof(runtime_2))\n",
    "\n",
    "# Calculate the average run time\n",
    "average_runtime = (runtime_1+runtime_2)/2\n",
    "\n",
    "# Print the type of average_runtime\n",
    "println(typeof(average_runtime))"
   ]
  }
 ],
 "metadata": {
  "kernelspec": {
   "display_name": "Julia 1.8.5",
   "language": "julia",
   "name": "julia-1.8"
  },
  "language_info": {
   "file_extension": ".jl",
   "mimetype": "application/julia",
   "name": "julia",
   "version": "1.8.5"
  },
  "orig_nbformat": 4
 },
 "nbformat": 4,
 "nbformat_minor": 2
}
