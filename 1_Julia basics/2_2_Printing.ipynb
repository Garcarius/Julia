{
 "cells": [
  {
   "attachments": {},
   "cell_type": "markdown",
   "metadata": {},
   "source": [
    "# Printing\n",
    "When working with scripts, print statements can help you see the output of your code. You can use one or more print statements in the same script, and everything inside the statements will be printed to the console.\n",
    "\n",
    "You are working on the same script from the previous exercise to track your working hours. Now you want to add printing to see the output of your total hours worked.\n",
    "\n",
    "Print the number of days worked this week, which is 4.\n",
    "Print the sum of hours worked, which is 39 + 37.5 + 40 + 42.\n",
    "\n",
    "\n",
    "\n",
    "\n"
   ]
  },
  {
   "cell_type": "code",
   "execution_count": 1,
   "metadata": {},
   "outputs": [
    {
     "name": "stdout",
     "output_type": "stream",
     "text": [
      "4\n"
     ]
    }
   ],
   "source": [
    "# Hours worked this week\n",
    "39 , 37.5 , 40 , 42\n",
    "# Print the number of days worked\n",
    "println(4)\n"
   ]
  },
  {
   "cell_type": "code",
   "execution_count": 2,
   "metadata": {},
   "outputs": [
    {
     "name": "stdout",
     "output_type": "stream",
     "text": [
      "158.5\n"
     ]
    }
   ],
   "source": [
    "# Print the sum of the hours worked\n",
    "println(39 + 37.5 + 40 + 42)"
   ]
  }
 ],
 "metadata": {
  "kernelspec": {
   "display_name": "Julia 1.8.5",
   "language": "julia",
   "name": "julia-1.8"
  },
  "language_info": {
   "file_extension": ".jl",
   "mimetype": "application/julia",
   "name": "julia",
   "version": "1.8.5"
  },
  "orig_nbformat": 4
 },
 "nbformat": 4,
 "nbformat_minor": 2
}
