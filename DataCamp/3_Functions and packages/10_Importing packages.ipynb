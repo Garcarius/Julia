{
 "cells": [
  {
   "attachments": {},
   "cell_type": "markdown",
   "metadata": {},
   "source": [
    "# Importing packages\n",
    "Utilizing external packages will make you a more effective programmer. In this exercise, you will import and use the `Statistics` package in two different ways.\n",
    "\n",
    "An array of data named `x`, is available in your environment.\n",
    "\n",
    "## instructions\n",
    "* Import the `Statistics` package using the `import` keyword.\n",
    "* Use the `median()` function from the package to find the median value of the array `x`."
   ]
  },
  {
   "cell_type": "code",
   "execution_count": 1,
   "metadata": {},
   "outputs": [
    {
     "data": {
      "text/plain": [
       "25-element Vector{Float64}:\n",
       " 0.6357861071794271\n",
       " 0.3988342070317833\n",
       " 0.19538696387290277\n",
       " 0.18320418624860058\n",
       " 0.05460208118156562\n",
       " 0.4783091515967033\n",
       " 0.11369873964969746\n",
       " 0.8206545864439315\n",
       " 0.2921923060236269\n",
       " 0.5257727192425079\n",
       " ⋮\n",
       " 0.7080646569583674\n",
       " 0.40292908866159294\n",
       " 0.13208873001385457\n",
       " 0.9421795062524445\n",
       " 0.18037208936800164\n",
       " 0.08414407350578967\n",
       " 0.688996255230676\n",
       " 0.7136292001205926\n",
       " 0.9584888206765753"
      ]
     },
     "metadata": {},
     "output_type": "display_data"
    }
   ],
   "source": [
    "x=[0.6357861071794271,0.3988342070317833,0.19538696387290277,0.18320418624860058,0.05460208118156562,0.4783091515967033,0.11369873964969746,0.8206545864439315,0.2921923060236269,0.5257727192425079,0.9074225947103227,0.40340487079622667,0.41114989837953864,0.9929464242992381,0.6326970488293092,0.12091398060860747,0.7080646569583674,0.40292908866159294,0.13208873001385457,0.9421795062524445,0.18037208936800164,0.08414407350578967,0.688996255230676,0.7136292001205926,0.9584888206765753]"
   ]
  },
  {
   "cell_type": "code",
   "execution_count": 2,
   "metadata": {},
   "outputs": [
    {
     "name": "stdout",
     "output_type": "stream",
     "text": [
      "Median of x is 0.41114989837953864\n"
     ]
    }
   ],
   "source": [
    "# Import the Statistics package\n",
    "import Statistics as sts\n",
    "\n",
    "# Calculate median\n",
    "m = sts.median(x)\n",
    "\n",
    "println(\"Median of x is $m\")"
   ]
  },
  {
   "attachments": {},
   "cell_type": "markdown",
   "metadata": {},
   "source": [
    "* Import the `Statistics` package using the `using` keyword.\n",
    "* Use the imported `std()` function to find the standard deviation of the array `x`."
   ]
  },
  {
   "cell_type": "code",
   "execution_count": 5,
   "metadata": {},
   "outputs": [
    {
     "name": "stdout",
     "output_type": "stream",
     "text": [
      "Standard deviation of x is 0.30574046641839053\n"
     ]
    }
   ],
   "source": [
    "# Import the Statistics package\n",
    "using  Statistics \n",
    "\n",
    "# Calculate standard deviation\n",
    "m = Statistics.std(x)\n",
    "\n",
    "println(\"Standard deviation of x is $m\")"
   ]
  }
 ],
 "metadata": {
  "kernelspec": {
   "display_name": "Julia 1.8.5",
   "language": "julia",
   "name": "julia-1.8"
  },
  "language_info": {
   "file_extension": ".jl",
   "mimetype": "application/julia",
   "name": "julia",
   "version": "1.8.5"
  },
  "orig_nbformat": 4
 },
 "nbformat": 4,
 "nbformat_minor": 2
}
