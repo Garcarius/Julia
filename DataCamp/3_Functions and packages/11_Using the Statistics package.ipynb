{
 "cells": [
  {
   "attachments": {},
   "cell_type": "markdown",
   "metadata": {},
   "source": [
    "# Using the Statistics package\n",
    "Now that you know how to import and use packages, you can analyze the data from the last chapter even further.\n",
    "\n",
    "The array `body_temps_c`, which you created in the last chapter, is available in the environment. This array contains some measurements of body temperatures in degrees Celsius.\n",
    "\n",
    "Another array named `heart_rates` is also available in your environment and contains the heart rates of the same sample of people measured in beats per minute.\n",
    "\n",
    "You want to find the average value of each of these arrays. You know that inside the Statistics package, there is a function called mean(), which will calculate exactly what you want.\n",
    "\n"
   ]
  },
  {
   "cell_type": "code",
   "execution_count": 2,
   "metadata": {},
   "outputs": [
    {
     "data": {
      "text/plain": [
       "25-element Vector{Int64}:\n",
       " 73\n",
       " 75\n",
       " 76\n",
       " 68\n",
       " 68\n",
       " 82\n",
       " 79\n",
       " 74\n",
       " 83\n",
       " 68\n",
       "  ⋮\n",
       " 69\n",
       " 81\n",
       " 63\n",
       " 81\n",
       " 82\n",
       " 81\n",
       " 74\n",
       " 81\n",
       " 61"
      ]
     },
     "metadata": {},
     "output_type": "display_data"
    }
   ],
   "source": [
    "body_temps_c= [ 36.166666666666664 ,37.22222222222222 ,37.05555555555556 ,36.333333333333336 ,37.0 ,36.388888888888886 ,36.333333333333336 ,36.77777777777778 ,36.666666666666664 ,35.94444444444444 ,37.05555555555556 ,36.05555555555556 ,36.77777777777778 ,36.666666666666664 ,37.0 ,37.111111111111114 ,37.111111111111114 ,36.27777777777778 ,37.388888888888886 ,37.05555555555556 ,36.611111111111114 ,36.22222222222222 ,38.22222222222222 ,36.611111111111114 ,36.94444444444444]\n",
    "\n",
    "heart_rates=[73 ,75 ,76 ,68 ,68 ,82 ,79 ,74 ,83 ,68 ,67 ,70 ,71 ,73 ,78 ,68 ,69 ,81 ,63 ,81 ,82 ,81 ,74 ,81 ,61]"
   ]
  },
  {
   "attachments": {},
   "cell_type": "markdown",
   "metadata": {},
   "source": [
    "* Import the `Statistics` package under the name `sts`.\n",
    "* Use the `mean()` function from the `Statistics` package to find the mean of `body_temps_c`.\n",
    "* Print the mean body temperature.\n",
    "* Use the `mean()` function from the `Statistics` package to find the mean of `heart_rates`."
   ]
  },
  {
   "cell_type": "code",
   "execution_count": 3,
   "metadata": {},
   "outputs": [
    {
     "name": "stdout",
     "output_type": "stream",
     "text": [
      "The mean body temperature is 36.75999999999999\n"
     ]
    },
    {
     "name": "stdout",
     "output_type": "stream",
     "text": [
      "The mean heart rate is 73.84\n"
     ]
    }
   ],
   "source": [
    "# Import the Statistics package\n",
    "import Statistics as sts\n",
    "\n",
    "# Calculate the mean body temperature\n",
    "mean_body_temp_c = sts.mean(body_temps_c)\n",
    "\n",
    "# Print the mean body temperature\n",
    "println(\"The mean body temperature is \", mean_body_temp_c)\n",
    "\n",
    "# Calculate the mean heart rate\n",
    "mean_heart_rate = sts.mean(heart_rates)\n",
    "\n",
    "println(\"The mean heart rate is $mean_heart_rate\")"
   ]
  }
 ],
 "metadata": {
  "kernelspec": {
   "display_name": "Julia 1.8.5",
   "language": "julia",
   "name": "julia-1.8"
  },
  "language_info": {
   "file_extension": ".jl",
   "mimetype": "application/julia",
   "name": "julia",
   "version": "1.8.5"
  },
  "orig_nbformat": 4
 },
 "nbformat": 4,
 "nbformat_minor": 2
}
