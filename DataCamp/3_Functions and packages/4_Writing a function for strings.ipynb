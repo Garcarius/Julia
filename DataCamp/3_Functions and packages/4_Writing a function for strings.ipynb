{
 "cells": [
  {
   "attachments": {},
   "cell_type": "markdown",
   "metadata": {},
   "source": [
    "# Writing a function for strings\n",
    "In chapter 2, you wrote a script to process a student's grades. Now you have a lot of students' grades to process, so it's time to write a function for it.\n",
    "\n",
    "For each student, you have text data that looks like this:\n",
    "\n",
    "`grades = \"XXXX\"`\n",
    "\n",
    "Where the letters `\"XXXX\"`are the grades for the student in mathematics, history, science, and drama, respectively.\n",
    "\n",
    "A single string of grades named `mygrades` and an array of grade strings named `grades_array` is available in your environment."
   ]
  },
  {
   "cell_type": "code",
   "execution_count": 3,
   "metadata": {},
   "outputs": [
    {
     "data": {
      "text/plain": [
       "\"ABBA\""
      ]
     },
     "metadata": {},
     "output_type": "display_data"
    }
   ],
   "source": [
    "grades_array = [\"ABBA\", \"CABA\", \"BAAA\", \"CCBA\", \"ABAC\", \"BBBA\", \"ACBC\", \"ACCC\", \"BAAA\", \"BBCA\"]\n",
    "mygrades = \"ABBA\""
   ]
  },
  {
   "attachments": {},
   "cell_type": "markdown",
   "metadata": {},
   "source": [
    "Write a function named `get_mathgrade()`, which has a single input named `grades` and returns the first element of the `grades` string."
   ]
  },
  {
   "cell_type": "code",
   "execution_count": 1,
   "metadata": {},
   "outputs": [
    {
     "data": {
      "text/plain": [
       "get_mathgrade (generic function with 1 method)"
      ]
     },
     "metadata": {},
     "output_type": "display_data"
    }
   ],
   "source": [
    "# Create the get_mathgrade function\n",
    "function get_mathgrade(grades)\n",
    "    return grades[1]\n",
    "end"
   ]
  },
  {
   "attachments": {},
   "cell_type": "markdown",
   "metadata": {},
   "source": [
    "* Use the `get_mathgrade()` on the grade string `mygrades` and print the result."
   ]
  },
  {
   "cell_type": "code",
   "execution_count": 4,
   "metadata": {},
   "outputs": [
    {
     "name": "stdout",
     "output_type": "stream",
     "text": [
      "A\n"
     ]
    }
   ],
   "source": [
    "# Create the get_mathgrade function\n",
    "function get_mathgrade(grades)\n",
    "\treturn grades[1]\n",
    "end\n",
    "\n",
    "# Use the function on mygrades\n",
    "println(get_mathgrade(mygrades))"
   ]
  },
  {
   "attachments": {},
   "cell_type": "markdown",
   "metadata": {},
   "source": [
    "* Use the dot syntax to run the function `get_mathgrade()` on each element of the `grades_array` array and print the result."
   ]
  },
  {
   "cell_type": "code",
   "execution_count": 5,
   "metadata": {},
   "outputs": [
    {
     "name": "stdout",
     "output_type": "stream",
     "text": [
      "A\n"
     ]
    },
    {
     "name": "stdout",
     "output_type": "stream",
     "text": [
      "['A', 'C', 'B', 'C', 'A', 'B', 'A', 'A', 'B', 'B']\n"
     ]
    }
   ],
   "source": [
    "# Create the get_mathgrade function\n",
    "function get_mathgrade(grades)\n",
    "\treturn grades[1]\n",
    "end\n",
    "\n",
    "# Use the function on mygrades\n",
    "println(get_mathgrade(mygrades))\n",
    "\n",
    "# Use the function on grades_array\n",
    "println(get_mathgrade.(grades_array))"
   ]
  }
 ],
 "metadata": {
  "kernelspec": {
   "display_name": "Julia 1.8.5",
   "language": "julia",
   "name": "julia-1.8"
  },
  "language_info": {
   "file_extension": ".jl",
   "mimetype": "application/julia",
   "name": "julia",
   "version": "1.8.5"
  },
  "orig_nbformat": 4
 },
 "nbformat": 4,
 "nbformat_minor": 2
}
