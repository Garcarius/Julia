{
 "cells": [
  {
   "attachments": {},
   "cell_type": "markdown",
   "metadata": {},
   "source": [
    "# Check input data type\n",
    "Conditional statements make your code intelligent so that it can respond to your inputs or to the results it calculates.\n",
    "\n",
    "One common use for conditional statements is to respond to the users' inputs. In this example, let's say you have written some code for an online shop that will return a number n of this week's top-rated products. This code only works if the input `n` is an integer (a whole number). You want to check if `n` is suitable and print a message to help the user.\n",
    "\n",
    "The input `n` has already been assigned and is available in your environment.\n",
    "\n",
    "* Write an if statement to check whether the type of parameter `n` is equal to `Int64`.\n",
    "* If it is this type, print the statement `\"n is the correct type\"`.\n",
    "* Write an else block so that the message `\"This script only works on integers\"` is printed otherwise.\n",
    "* End the conditional statement."
   ]
  },
  {
   "cell_type": "code",
   "execution_count": 3,
   "metadata": {},
   "outputs": [
    {
     "name": "stdout",
     "output_type": "stream",
     "text": [
      "This script only works on integers\n",
      "3.0\n"
     ]
    }
   ],
   "source": [
    "n=3.0\n",
    "# Check if n is the correct type\n",
    "if typeof(n)==Int64\n",
    "\t# Print n is the correct type\n",
    "\tprintln(\"n is the correct type\")\n",
    "# Use an else statement to print if n is not the correct type\n",
    "else\n",
    "\tprintln(\"This script only works on integers\")\n",
    "# Finish the conditional statement\n",
    "end\n",
    "\n",
    "println(n)"
   ]
  }
 ],
 "metadata": {
  "kernelspec": {
   "display_name": "Julia 1.8.5",
   "language": "julia",
   "name": "julia-1.8"
  },
  "language_info": {
   "file_extension": ".jl",
   "mimetype": "application/julia",
   "name": "julia",
   "version": "1.8.5"
  },
  "orig_nbformat": 4
 },
 "nbformat": 4,
 "nbformat_minor": 2
}
