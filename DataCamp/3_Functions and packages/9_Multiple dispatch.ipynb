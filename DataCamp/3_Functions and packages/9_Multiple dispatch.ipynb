{
 "cells": [
  {
   "attachments": {},
   "cell_type": "markdown",
   "metadata": {},
   "source": [
    "# Multiple dispatch\n",
    "Multiple dispatch is one of the unique features of Julia, and it will help you write really neat and efficient code. Earlier in this chapter, you wrote some code to check whether a variable had the correct type for a function. With multiple dispatch we can handle different input types more effectively.\n",
    "\n",
    "In this exercise, you will write a function that uses multiple dispatch.\n",
    "\n",
    "## instructions\n",
    "Write a function named `negative()` which takes an argument named `x` which can be of any type and returns `-x`."
   ]
  },
  {
   "cell_type": "code",
   "execution_count": 1,
   "metadata": {},
   "outputs": [
    {
     "data": {
      "text/plain": [
       "negative (generic function with 1 method)"
      ]
     },
     "metadata": {},
     "output_type": "display_data"
    }
   ],
   "source": [
    "# Write the negative function\n",
    "function negative(x)\n",
    "    return -x\n",
    "end"
   ]
  },
  {
   "attachments": {},
   "cell_type": "markdown",
   "metadata": {},
   "source": [
    "* Write another version of the `negative` function for data type `Bool`.\n",
    "* In the function's body use an if-else statement to return `false` if the input is `true` and `true` if the input is `false`."
   ]
  },
  {
   "cell_type": "code",
   "execution_count": 6,
   "metadata": {},
   "outputs": [
    {
     "data": {
      "text/plain": [
       "negative (generic function with 2 methods)"
      ]
     },
     "metadata": {},
     "output_type": "display_data"
    }
   ],
   "source": [
    "# Write the negative function\n",
    "function negative(x)\n",
    "\treturn -x\n",
    "end\n",
    "\n",
    "# Write negative function for Bool data type\n",
    "function negative(x::Bool)\n",
    "\tif x\n",
    "    \treturn false\n",
    "    else \n",
    "    \treturn true\n",
    "    end\n",
    "end"
   ]
  }
 ],
 "metadata": {
  "kernelspec": {
   "display_name": "Julia 1.8.5",
   "language": "julia",
   "name": "julia-1.8"
  },
  "language_info": {
   "file_extension": ".jl",
   "mimetype": "application/julia",
   "name": "julia",
   "version": "1.8.5"
  },
  "orig_nbformat": 4
 },
 "nbformat": 4,
 "nbformat_minor": 2
}
