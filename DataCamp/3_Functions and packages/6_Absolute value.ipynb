{
 "cells": [
  {
   "attachments": {},
   "cell_type": "markdown",
   "metadata": {},
   "source": [
    "# Absolute value\n",
    "Previously we fit a straight line to your run times. Now you want to examine how far the values of your run times were from the predictions of the straight-line fit. A common way to do this is by using the absolute difference between the values.\n",
    "\n",
    "You need to write a function that can calculate the absolute values so you can perform this analysis.\n",
    "\n",
    "The array of residuals between the straight line and your run times is available in your environment as `residuals`."
   ]
  },
  {
   "cell_type": "code",
   "execution_count": 2,
   "metadata": {},
   "outputs": [
    {
     "data": {
      "text/plain": [
       "Vector{Float64}\u001b[90m (alias for \u001b[39m\u001b[90mArray{Float64, 1}\u001b[39m\u001b[90m)\u001b[39m"
      ]
     },
     "metadata": {},
     "output_type": "display_data"
    }
   ],
   "source": [
    "residuals = [0.6200000000000045,-0.1599999999999966, 0.47000000000000597,-0.7199999999999989,-1.1599999999999966,0.7800000000000011,-0.14999999999999858, 0.0800000000000054,1.4499999999999993,-0.1999999999999993,-0.8399999999999963, 0.25000000000000355,-0.259999999999998, 0.20000000000000284,0.20000000000000284]\n",
    "\n",
    "typeof(residuals)"
   ]
  },
  {
   "cell_type": "code",
   "execution_count": 11,
   "metadata": {},
   "outputs": [
    {
     "name": "stdout",
     "output_type": "stream",
     "text": [
      "[0.6200000000000045, 0.1599999999999966, 0.47000000000000597, 0.7199999999999989, 1.1599999999999966, 0.7800000000000011, 0.14999999999999858, 0.0800000000000054, 1.4499999999999993, 0.1999999999999993, 0.8399999999999963, 0.25000000000000355, 0.259999999999998, 0.20000000000000284, 0.20000000000000284]\n"
     ]
    }
   ],
   "source": [
    "# Begin the absolute function\n",
    "function absolute(x)\n",
    "\t# Write an if-statement to return absolute value of x\n",
    "\tif x >= 0\n",
    "    \treturn x\n",
    "    else\n",
    "    \treturn -x\n",
    "    end\n",
    "end\n",
    "\n",
    "# Use the function on residuals\n",
    "println(absolute.(residuals))"
   ]
  }
 ],
 "metadata": {
  "kernelspec": {
   "display_name": "Julia 1.8.5",
   "language": "julia",
   "name": "julia-1.8"
  },
  "language_info": {
   "file_extension": ".jl",
   "mimetype": "application/julia",
   "name": "julia",
   "version": "1.8.5"
  },
  "orig_nbformat": 4
 },
 "nbformat": 4,
 "nbformat_minor": 2
}
