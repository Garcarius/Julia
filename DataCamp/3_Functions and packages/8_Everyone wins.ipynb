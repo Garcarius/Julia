{
 "cells": [
  {
   "attachments": {},
   "cell_type": "markdown",
   "metadata": {},
   "source": [
    "# Everyone wins\n",
    "After the last exercise, you realize that you have the power not just to improve your own grades but the grades of everyone else. So why not use your skills to help others too?\n",
    "\n",
    "The array of grades `grades_array` is available in your environment.\n",
    "\n",
    "## instructions\n",
    "Create a mutating function named `topstudents!()`, which accepts an array `x`, and changes all the elements to \"AAAA\".\n",
    "Call the function on the `grades_array` array."
   ]
  },
  {
   "cell_type": "code",
   "execution_count": 1,
   "metadata": {},
   "outputs": [
    {
     "data": {
      "text/plain": [
       "10-element Vector{String}:\n",
       " \"ABBA\"\n",
       " \"CABA\"\n",
       " \"BAAA\"\n",
       " \"CCBA\"\n",
       " \"ABAC\"\n",
       " \"BBBA\"\n",
       " \"ACBC\"\n",
       " \"ACCC\"\n",
       " \"BAAA\"\n",
       " \"BBCA\""
      ]
     },
     "metadata": {},
     "output_type": "display_data"
    }
   ],
   "source": [
    "grades_array = [\"ABBA\", \"CABA\", \"BAAA\", \"CCBA\", \"ABAC\", \"BBBA\", \"ACBC\", \"ACCC\", \"BAAA\", \"BBCA\"]"
   ]
  },
  {
   "cell_type": "code",
   "execution_count": 2,
   "metadata": {},
   "outputs": [
    {
     "name": "stdout",
     "output_type": "stream",
     "text": [
      "The new grades are [\"AAAA\", \"AAAA\", \"AAAA\", \"AAAA\", \"AAAA\", \"AAAA\", \"AAAA\", \"AAAA\", \"AAAA\", \"AAAA\"]\n"
     ]
    }
   ],
   "source": [
    "# Write a grade mutating function\n",
    "function topstudents!(x)\n",
    "    x .= \"AAAA\"\n",
    "end \n",
    "\n",
    "# Call the function on grades_array\n",
    "topstudents!(grades_array)\n",
    "\n",
    "println(\"The new grades are $(grades_array)\")"
   ]
  }
 ],
 "metadata": {
  "kernelspec": {
   "display_name": "Julia 1.8.5",
   "language": "julia",
   "name": "julia-1.8"
  },
  "language_info": {
   "file_extension": ".jl",
   "mimetype": "application/julia",
   "name": "julia",
   "version": "1.8.5"
  },
  "orig_nbformat": 4
 },
 "nbformat": 4,
 "nbformat_minor": 2
}
