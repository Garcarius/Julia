{
 "cells": [
  {
   "attachments": {},
   "cell_type": "markdown",
   "metadata": {},
   "source": [
    "# Modifying arrays\n",
    "You are looking at the array of students' grades once again. It has come to your attention that your own grade, which is at index 4 in the array, is not as high as it should be. It's time to write a mutating function to take care of this obvious mistake.\n",
    "\n",
    "## instuctions\n",
    "* Write a mutating function named `topstudent!()`, which takes an array named `x` as an argument and modifies the value at index 4 to `\"AAAA\"`.\n",
    "* Use the function to modify the grades array `grades_array`."
   ]
  },
  {
   "cell_type": "code",
   "execution_count": 4,
   "metadata": {},
   "outputs": [
    {
     "data": {
      "text/plain": [
       "10-element Vector{String}:\n",
       " \"ABBA\"\n",
       " \"CABA\"\n",
       " \"BAAA\"\n",
       " \"CCBA\"\n",
       " \"ABAC\"\n",
       " \"BBBA\"\n",
       " \"ACBC\"\n",
       " \"ACCC\"\n",
       " \"BAAA\"\n",
       " \"BBCA\""
      ]
     },
     "metadata": {},
     "output_type": "display_data"
    }
   ],
   "source": [
    "grades_array = [\"ABBA\", \"CABA\", \"BAAA\", \"CCBA\", \"ABAC\", \"BBBA\", \"ACBC\", \"ACCC\", \"BAAA\", \"BBCA\"]"
   ]
  },
  {
   "cell_type": "code",
   "execution_count": 5,
   "metadata": {},
   "outputs": [
    {
     "name": "stdout",
     "output_type": "stream",
     "text": [
      "Your previous grades were CCBA\n",
      "Your new grades are AAAA\n"
     ]
    }
   ],
   "source": [
    "# Write a grade mutating function\n",
    "function topstudent!(x)\n",
    "\tx[4] = \"AAAA\"\n",
    "end\n",
    "\n",
    "println(\"Your previous grades were $(grades_array[4])\")\n",
    "\n",
    "# Call the function on grades_array\n",
    "topstudent!(grades_array)\n",
    "\n",
    "println(\"Your new grades are $(grades_array[4])\")"
   ]
  }
 ],
 "metadata": {
  "kernelspec": {
   "display_name": "Julia 1.8.5",
   "language": "julia",
   "name": "julia-1.8"
  },
  "language_info": {
   "file_extension": ".jl",
   "mimetype": "application/julia",
   "name": "julia",
   "version": "1.8.5"
  },
  "orig_nbformat": 4
 },
 "nbformat": 4,
 "nbformat_minor": 2
}
