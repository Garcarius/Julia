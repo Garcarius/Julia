{
 "cells": [
  {
   "attachments": {},
   "cell_type": "markdown",
   "metadata": {},
   "source": [
    "# If-else practice\n",
    "Conditional statements will come up in your code in lots of places, so its really important you are comfortable with them.\n",
    "\n",
    "In the following samples you are writing little pieces of code to:\n",
    "\n",
    "1. Find the absolute value of a number\n",
    "2. Find the maximum value of two numbers\n",
    "3. Print a message if your script has finished\n",
    "The variables you need to complete these examples, x, y, and finished are available in your environment.\n",
    "\n",
    "* Complete the if-else statement to print x if it is greater than zero, and print -x otherwise."
   ]
  },
  {
   "cell_type": "code",
   "execution_count": 1,
   "metadata": {},
   "outputs": [
    {
     "name": "stdout",
     "output_type": "stream",
     "text": [
      "3\n"
     ]
    }
   ],
   "source": [
    "x = -3\n",
    "y = 2\n",
    "# Print x if it is positive, otherwise print -x\n",
    "if x > 0\n",
    "\tprintln(x)\n",
    "else\n",
    "\tprintln(-x)\n",
    "end"
   ]
  },
  {
   "attachments": {},
   "cell_type": "markdown",
   "metadata": {},
   "source": [
    "* Complete the code so larger = x if the float x is bigger than the float y, and larger = y otherwise."
   ]
  },
  {
   "cell_type": "code",
   "execution_count": 2,
   "metadata": {},
   "outputs": [
    {
     "name": "stdout",
     "output_type": "stream",
     "text": [
      "Maximum from x=-3 and y=2 is 2\n"
     ]
    }
   ],
   "source": [
    "# Complete the conditional statement to find the largest value\n",
    "if x > y\n",
    "\tlarger = x\n",
    "else\n",
    "\tlarger = y\n",
    "end\n",
    "\n",
    "println(\"Maximum from x=$x and y=$y is $larger\")"
   ]
  },
  {
   "attachments": {},
   "cell_type": "markdown",
   "metadata": {},
   "source": [
    "* If the boolean `finished` is true, print `\"Script has finished\"`, otherwise print `\"Script still running\"`"
   ]
  },
  {
   "cell_type": "code",
   "execution_count": 3,
   "metadata": {},
   "outputs": [
    {
     "name": "stdout",
     "output_type": "stream",
     "text": [
      "Script has finished\n"
     ]
    }
   ],
   "source": [
    "finished = true\n",
    "\n",
    "# Complete the conditional statement to check if your script has finished\n",
    "if finished\n",
    "\tprintln(\"Script has finished\")\n",
    "else\n",
    "\tprintln(\"Script still running\")\n",
    "end"
   ]
  }
 ],
 "metadata": {
  "kernelspec": {
   "display_name": "Julia 1.8.5",
   "language": "julia",
   "name": "julia-1.8"
  },
  "language_info": {
   "file_extension": ".jl",
   "mimetype": "application/julia",
   "name": "julia",
   "version": "1.8.5"
  },
  "orig_nbformat": 4
 },
 "nbformat": 4,
 "nbformat_minor": 2
}
