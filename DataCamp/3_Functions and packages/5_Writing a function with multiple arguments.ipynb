{
 "cells": [
  {
   "attachments": {},
   "cell_type": "markdown",
   "metadata": {},
   "source": [
    "# Writing a function with multiple arguments\n",
    "In the last exercise, you wrote a function that returns the first letter of a student's grades. However, you would like a function that can be used to extract any of the student's grades.\n",
    "\n",
    "For each student, you have text data that looks like this:\n",
    "\n",
    "`grades = \"XXXX\"`\n",
    "\n",
    "Where the letters `\"XXXX\"` are the grades for the student in mathematics, history, science, and drama, respectively.\n",
    "\n",
    "A single string of grades named `mygrades` and an array of grade strings named `grades_array` is available in your environment."
   ]
  },
  {
   "attachments": {},
   "cell_type": "markdown",
   "metadata": {},
   "source": [
    "* Write a function named `get_gradenumber()`, which has two inputs named `grades` and `n`, and which returns the `n`th element of the `grades` string."
   ]
  },
  {
   "cell_type": "code",
   "execution_count": 1,
   "metadata": {},
   "outputs": [
    {
     "data": {
      "text/plain": [
       "\"ABBA\""
      ]
     },
     "metadata": {},
     "output_type": "display_data"
    }
   ],
   "source": [
    "grades_array = [\"ABBA\", \"CABA\", \"BAAA\", \"CCBA\", \"ABAC\", \"BBBA\", \"ACBC\", \"ACCC\", \"BAAA\", \"BBCA\"]\n",
    "mygrades = \"ABBA\""
   ]
  },
  {
   "cell_type": "code",
   "execution_count": 2,
   "metadata": {},
   "outputs": [
    {
     "data": {
      "text/plain": [
       "get_gradenumber (generic function with 1 method)"
      ]
     },
     "metadata": {},
     "output_type": "display_data"
    }
   ],
   "source": [
    "# Create the get_gradenumber function\n",
    "function get_gradenumber(grades,n)\n",
    "\treturn grades[n]\n",
    "end"
   ]
  },
  {
   "attachments": {},
   "cell_type": "markdown",
   "metadata": {},
   "source": [
    "* Use the `get_gradenumber()` on the grade string mygrades to extract the history grade in the string and print the result."
   ]
  },
  {
   "cell_type": "code",
   "execution_count": 3,
   "metadata": {},
   "outputs": [
    {
     "name": "stdout",
     "output_type": "stream",
     "text": [
      "B\n"
     ]
    }
   ],
   "source": [
    "# Create the get_gradenumber function\n",
    "function get_gradenumber(grades, n)\n",
    "\treturn grades[n]\n",
    "end\n",
    "\n",
    "# Use the function on mygrades to extract the history grade\n",
    "println(get_gradenumber(mygrades,2))"
   ]
  },
  {
   "attachments": {},
   "cell_type": "markdown",
   "metadata": {},
   "source": [
    "* Use the dot syntax and the function `get_gradenumber()` to extract the history grade from each element of the `grades_array` array and print the result."
   ]
  },
  {
   "cell_type": "code",
   "execution_count": 4,
   "metadata": {},
   "outputs": [
    {
     "name": "stdout",
     "output_type": "stream",
     "text": [
      "B"
     ]
    },
    {
     "name": "stdout",
     "output_type": "stream",
     "text": [
      "\n",
      "['B', 'A', 'A', 'C', 'B', 'B', 'C', 'C', 'A', 'B']\n"
     ]
    }
   ],
   "source": [
    "# Create the get_gradenumber function\n",
    "function get_gradenumber(grades, n)\n",
    "\treturn grades[n]\n",
    "end\n",
    "\n",
    "# Use the function on mygrades to extract the history grade\n",
    "println(get_gradenumber(mygrades, 2))\n",
    "\n",
    "# Use the function on grades_array to extract the history grades\n",
    "println(get_gradenumber.(grades_array, 2))"
   ]
  }
 ],
 "metadata": {
  "kernelspec": {
   "display_name": "Julia 1.8.5",
   "language": "julia",
   "name": "julia-1.8"
  },
  "language_info": {
   "file_extension": ".jl",
   "mimetype": "application/julia",
   "name": "julia",
   "version": "1.8.5"
  },
  "orig_nbformat": 4
 },
 "nbformat": 4,
 "nbformat_minor": 2
}
