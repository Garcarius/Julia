{
 "cells": [
  {
   "attachments": {},
   "cell_type": "markdown",
   "metadata": {},
   "source": [
    "# Indexing DataFrames\n",
    "DataFrames are powerful tools for analyzing data, but you need to be able to select the information you need from them. Let's practice selecting data here.\n",
    "\n",
    "The DataFrames `df_patients`, `df_grades`, and `df_books` are available in your environment."
   ]
  },
  {
   "cell_type": "code",
   "execution_count": 2,
   "metadata": {},
   "outputs": [
    {
     "name": "stdout",
     "output_type": "stream",
     "text": [
      "\u001b[1m3×3 DataFrame\u001b[0m\n",
      "\u001b[1m Row \u001b[0m│\u001b[1m bodytemp \u001b[0m\u001b[1m sex     \u001b[0m\u001b[1m heartrate \u001b[0m\n",
      "     │\u001b[90m Float64  \u001b[0m\u001b[90m String7 \u001b[0m\u001b[90m Int64     \u001b[0m\n",
      "─────┼──────────────────────────────\n",
      "   1 │     97.6  female          61\n",
      "   2 │     97.4  male            70\n",
      "   3 │     98.5  male            71"
     ]
    },
    {
     "name": "stdout",
     "output_type": "stream",
     "text": [
      "\n",
      "\u001b[1m3×12 DataFrame\u001b[0m\n",
      "\u001b[1m Row \u001b[0m│\u001b[1m goodreads_book_id \u001b[0m\u001b[1m authors                     \u001b[0m\u001b[1m original_publication_year \u001b[0m\u001b[1m title                             \u001b[0m\u001b[1m average_rating \u001b[0m\u001b[1m ratings_count \u001b[0m\u001b[1m work_text_reviews_count \u001b[0m\u001b[1m ratings_1 \u001b[0m\u001b[1m ratings_2 \u001b[0m\u001b[1m ratings_3 \u001b[0m\u001b[1m ratings_4 \u001b[0m\u001b[1m ratings_5 \u001b[0m\n",
      "     │\u001b[90m Int64             \u001b[0m\u001b[90m String                      \u001b[0m\u001b[90m Union{Missing, Int64}     \u001b[0m\u001b[90m String                            \u001b[0m\u001b[90m Float64        \u001b[0m\u001b[90m Int64         \u001b[0m\u001b[90m Int64                   \u001b[0m\u001b[90m Int64     \u001b[0m\u001b[90m Int64     \u001b[0m\u001b[90m Int64     \u001b[0m\u001b[90m Int64     \u001b[0m\u001b[90m Int64     \u001b[0m\n",
      "─────┼─────────────────────────────────────────────────────────────────────────────────────────────────────────────────────────────────────────────────────────────────────────────────────────────────────────────────────────────\n",
      "   1 │           2767052  Suzanne Collins                                   2008  The Hunger Games (The Hunger Gam…            4.34        4780653                   155254      66715     127936     560092    1481305    2706317\n",
      "   2 │                 3  J.K. Rowling, Mary GrandPré                       1997  Harry Potter and the Sorcerer's …            4.44        4602479                    75867      75504     101676     455024    1156318    3011543\n",
      "   3 │             41865  Stephenie Meyer                                   2005  Twilight (Twilight, #1)                      3.57        3866839                    95009     456191     436802     793319     875073    1355439\n"
     ]
    },
    {
     "name": "stdout",
     "output_type": "stream",
     "text": [
      "\u001b[1m3×4 DataFrame\u001b[0m\n",
      "\u001b[1m Row \u001b[0m│\u001b[1m mathematics \u001b[0m\u001b[1m history \u001b[0m\u001b[1m science \u001b[0m\u001b[1m drama \u001b[0m\n",
      "     │\u001b[90m Char        \u001b[0m\u001b[90m Char    \u001b[0m\u001b[90m Char    \u001b[0m\u001b[90m Char  \u001b[0m\n",
      "─────┼──────────────────────────────────────\n",
      "   1 │ A            B        B        A\n",
      "   2 │ C            A        B        A\n",
      "   3 │ B            A        A        A\n"
     ]
    }
   ],
   "source": [
    "using CSV\n",
    "using DataFrames\n",
    "path=\"D:\\\\Cursos\\\\Julia\\\\datasets\\\\\"\n",
    "# Load the CSV file\n",
    "df_patients = CSV.read(path*\"patients.csv\",DataFrame)\n",
    "df_books = CSV.read(path*\"books.csv\",DataFrame)\n",
    "\n",
    "#\n",
    "grades_array = [\"ABBA\",\"CABA\",\"BAAA\",\"AAAA\",\"ABAC\",\"BBBA\",\"ACBC\",\"ACCC\",\"BAAA\",\"BBCA\"]\n",
    "\n",
    "function get_gradenumber(grades, n)\n",
    "\treturn grades[n]\n",
    "end\n",
    "\n",
    "df_grades = DataFrame(\n",
    "\tmathematics=get_gradenumber.(grades_array, 1),\n",
    "    history=get_gradenumber.(grades_array, 2), \n",
    "    science=get_gradenumber.(grades_array,3), \n",
    "    drama=get_gradenumber.(grades_array, 4),\n",
    ")\n",
    "println(first(df_patients,3))\n",
    "println(first(df_books,3))\n",
    "println(first(df_grades,3))\n"
   ]
  },
  {
   "attachments": {},
   "cell_type": "markdown",
   "metadata": {},
   "source": [
    "### Instructions\n",
    "\n",
    "* Select the bodytemp column from the DataFrame df_patients."
   ]
  },
  {
   "cell_type": "code",
   "execution_count": 3,
   "metadata": {},
   "outputs": [
    {
     "name": "stdout",
     "output_type": "stream",
     "text": [
      "[97.6, 97.4, 98.5, 97.4, 98.2, 98.8, 98.2, 98.5, 98.0, 98.7, 97.2, 98.4, 97.6, 98.4, 97.8, 98.4, 97.8, 98.8, 98.0, 98.8, 96.4, 97.7, 97.5, 99.0, 98.7, 98.6, 98.8, 97.8, 98.6, 98.0, 99.4, "
     ]
    },
    {
     "name": "stdout",
     "output_type": "stream",
     "text": [
      "97.9, 97.7, 98.4, 99.0, 96.8, 98.2, 98.4, 97.4, 97.1, 98.7, 97.8, 99.0, 98.0, 99.5, 98.0, 98.3, 98.6, 98.6, 97.9, 98.6, 97.4, 98.4, 98.8, 98.8, 98.7, 98.6, 97.6, 99.4, 99.0, 99.3, 99.1, 97.9, 97.5, 98.3, 96.3, 97.6, 98.0, 98.1, 98.7, 98.0, 97.2, 99.9, 98.6, 98.8, 98.6, 98.4, 98.2, 98.8, 96.7, 98.3, 98.0, 97.2, 97.9, 98.2, 98.0, 99.2, 98.8, 98.7, 97.9, 98.4, 98.2, 96.7, 97.8"
     ]
    },
    {
     "name": "stdout",
     "output_type": "stream",
     "text": [
      ", 98.2, 98.1, 99.1, 98.2, 98.4, 97.1, 97.7, 98.2, 98.9, 98.0, 100.0, 97.8, 97.1, 99.0, 97.8, 97.3, 98.2, 98.6, 98.5, 99.1, 98.3, 98.0, 98.6, 99.3, 97.0, 98.9, 100.8, 99.2, 97.4, 99.2, 98.8, 98.1, 98.7, 98.7, 96.9, 98.3]\n"
     ]
    }
   ],
   "source": [
    "# Select the body temperature column\n",
    "body_temps = df_patients[:, \"bodytemp\"]\n",
    "\n",
    "println(body_temps)"
   ]
  },
  {
   "attachments": {},
   "cell_type": "markdown",
   "metadata": {},
   "source": [
    "* Select the third row of grades from the `df_grades` DataFrame."
   ]
  },
  {
   "cell_type": "code",
   "execution_count": 4,
   "metadata": {},
   "outputs": [
    {
     "name": "stdout",
     "output_type": "stream",
     "text": [
      "\u001b[1mDataFrameRow\u001b[0m\n",
      "\u001b[1m Row \u001b[0m│\u001b[1m mathematics \u001b[0m\u001b[1m history \u001b[0m\u001b[1m science \u001b[0m\u001b[1m drama \u001b[0m\n",
      "     │\u001b[90m Char        \u001b[0m\u001b[90m Char    \u001b[0m\u001b[90m Char    \u001b[0m\u001b[90m Char  \u001b[0m\n",
      "─────┼──────────────────────────────────────\n",
      "   3 │ B            A        A        A\n"
     ]
    }
   ],
   "source": [
    "# Select the third row of df_grades\n",
    "third_grades = df_grades[3, :]\n",
    "\n",
    "println(third_grades)"
   ]
  },
  {
   "attachments": {},
   "cell_type": "markdown",
   "metadata": {},
   "source": [
    "* Select the value in the 710th row of the `title` column in `df_books`."
   ]
  },
  {
   "cell_type": "code",
   "execution_count": 5,
   "metadata": {},
   "outputs": [
    {
     "name": "stdout",
     "output_type": "stream",
     "text": [
      "The book is DataFrameRow\n",
      " Row │ goodreads_book_id  authors       original_publication_year  title                              average_rating  ratings_count  work_text_reviews_count  ratings_1  ratings_2  ratings_3  ratings_4  ratings_5\n",
      "     │ Int64              String        Union{Missing, Int64}      String                             Float64         Int64          Int64                    Int64      Int64      Int64      Int64      Int64\n",
      "─────┼──────────────────────────────────────────────────────────────────────────────────────────────────────────────────────────────────────────────────────────────────────────────────────────────────────────────\n",
      " 710 │             13747  Julie Powell                       2005  Julie and Julia: 365 Days, 524 R…            3.67         121373                     7434       4405      11803      37340      44811      31204\n"
     ]
    }
   ],
   "source": [
    "# Select the \n",
    "book_title = df_books[710, \"title\"]\n",
    "\n",
    "println(\"The book is $book_title\")"
   ]
  }
 ],
 "metadata": {
  "kernelspec": {
   "display_name": "Julia 1.8.5",
   "language": "julia",
   "name": "julia-1.8"
  },
  "language_info": {
   "file_extension": ".jl",
   "mimetype": "application/julia",
   "name": "julia",
   "version": "1.8.5"
  },
  "orig_nbformat": 4
 },
 "nbformat": 4,
 "nbformat_minor": 2
}
