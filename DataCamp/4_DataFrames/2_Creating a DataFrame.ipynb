{
 "cells": [
  {
   "attachments": {},
   "cell_type": "markdown",
   "metadata": {},
   "source": [
    "# Creating a DataFrame\n",
    "You are examining the students' grade data, which is available in your environment as `grades_array`. Each array element is a string of 4 letters for a student's mathematics, history, science, and drama grades.\n",
    "\n",
    "In the last chapter, you wrote a function called `get_gradenumber(grades, n)` to select the `n`th grade from the grade string grade. The function's first argument is the grade string, and the second argument is the number n from 1-4. The grades in each string are for mathematics, history, science, and drama, respectively.\n",
    "\n",
    "The `DataFrames` package has been imported for you with the `using` keyword."
   ]
  },
  {
   "cell_type": "code",
   "execution_count": 5,
   "metadata": {},
   "outputs": [
    {
     "name": "stdout",
     "output_type": "stream",
     "text": [
      "CABA\n"
     ]
    }
   ],
   "source": [
    "using DataFrames\n",
    "grades_array = [\"ABBA\",\"CABA\",\"BAAA\",\"AAAA\",\"ABAC\",\"BBBA\",\"ACBC\",\"ACCC\",\"BAAA\",\"BBCA\"]\n",
    "\n",
    "# Create the get_gradenumber function\n",
    "function get_gradenumber(grades, n)\n",
    "\treturn grades[n]\n",
    "end\n",
    "\n",
    "# Use the function on mygrades to extract the history grade\n",
    "println(get_gradenumber(grades_array,2))"
   ]
  },
  {
   "attachments": {},
   "cell_type": "markdown",
   "metadata": {},
   "source": [
    "* Use the `get_gradenumber()` function and the dot-syntax to create an array of students' mathematics grades from the grades_array array."
   ]
  },
  {
   "cell_type": "code",
   "execution_count": 3,
   "metadata": {},
   "outputs": [
    {
     "data": {
      "text/plain": [
       "10-element Vector{Char}:\n",
       " 'B': ASCII/Unicode U+0042 (category Lu: Letter, uppercase)\n",
       " 'B': ASCII/Unicode U+0042 (category Lu: Letter, uppercase)\n",
       " 'A': ASCII/Unicode U+0041 (category Lu: Letter, uppercase)\n",
       " 'A': ASCII/Unicode U+0041 (category Lu: Letter, uppercase)\n",
       " 'A': ASCII/Unicode U+0041 (category Lu: Letter, uppercase)\n",
       " 'B': ASCII/Unicode U+0042 (category Lu: Letter, uppercase)\n",
       " 'B': ASCII/Unicode U+0042 (category Lu: Letter, uppercase)\n",
       " 'C': ASCII/Unicode U+0043 (category Lu: Letter, uppercase)\n",
       " 'A': ASCII/Unicode U+0041 (category Lu: Letter, uppercase)\n",
       " 'C': ASCII/Unicode U+0043 (category Lu: Letter, uppercase)"
      ]
     },
     "metadata": {},
     "output_type": "display_data"
    }
   ],
   "source": [
    "# Extract the mathematics grades\n",
    "math_grades = get_gradenumber.(grades_array, 3)"
   ]
  },
  {
   "attachments": {},
   "cell_type": "markdown",
   "metadata": {},
   "source": [
    "Create a DataFrame with a single column named mathematics and fill it with an array of maths grade."
   ]
  },
  {
   "cell_type": "code",
   "execution_count": 6,
   "metadata": {},
   "outputs": [
    {
     "name": "stdout",
     "output_type": "stream",
     "text": [
      "\u001b[1m5×1 DataFrame\u001b[0m\n",
      "\u001b[1m Row \u001b[0m│\u001b[1m mathematics \u001b[0m\n",
      "     │\u001b[90m Char        \u001b[0m\n",
      "─────┼─────────────\n",
      "   1 │ A\n",
      "   2 │ C\n",
      "   3 │ B\n",
      "   4 │ A\n",
      "   5 │ A\n"
     ]
    }
   ],
   "source": [
    "# Extract the mathematics grades\n",
    "math_grades = get_gradenumber.(grades_array, 1)\n",
    "\n",
    "# Create the DataFrame\n",
    "df_grades = DataFrame(\n",
    "\tmathematics=math_grades\n",
    ")\n",
    "\n",
    "println(first(df_grades, 5))"
   ]
  },
  {
   "attachments": {},
   "cell_type": "markdown",
   "metadata": {},
   "source": [
    "* Instead of creating a variable to hold the array of values, use the `get_gradenumber()` function to extract the mathematics grade and assign it to the mathematics column directly."
   ]
  },
  {
   "cell_type": "code",
   "execution_count": 7,
   "metadata": {},
   "outputs": [
    {
     "name": "stdout",
     "output_type": "stream",
     "text": [
      "\u001b[1m5×1 DataFrame\u001b[0m\n",
      "\u001b[1m Row \u001b[0m│\u001b[1m mathematics \u001b[0m\n",
      "     │\u001b[90m Char        \u001b[0m\n",
      "─────┼─────────────\n",
      "   1 │ A\n",
      "   2 │ C\n",
      "   3 │ B\n",
      "   4 │ A\n",
      "   5 │ A\n"
     ]
    }
   ],
   "source": [
    "# Create the DataFrame\n",
    "df_grades = DataFrame(\n",
    "\tmathematics=get_gradenumber.(grades_array, 1)\n",
    ")\n",
    "\n",
    "println(first(df_grades, 5))"
   ]
  },
  {
   "attachments": {},
   "cell_type": "markdown",
   "metadata": {},
   "source": [
    "* Create a DataFrame with columns for each four of the grades for all students using the `get_gradenumber()` function."
   ]
  },
  {
   "cell_type": "code",
   "execution_count": 8,
   "metadata": {},
   "outputs": [
    {
     "name": "stdout",
     "output_type": "stream",
     "text": [
      "\u001b[1m5×4 DataFrame\u001b[0m\n",
      "\u001b[1m Row \u001b[0m│\u001b[1m mathematics \u001b[0m\u001b[1m history \u001b[0m\u001b[1m science \u001b[0m\u001b[1m drama \u001b[0m\n",
      "     │\u001b[90m Char        \u001b[0m\u001b[90m Char    \u001b[0m\u001b[90m Char    \u001b[0m\u001b[90m Char  \u001b[0m\n",
      "─────┼──────────────────────────────────────\n",
      "   1 │ A            B        B        A\n",
      "   2 │ C            A        B        A\n",
      "   3 │ B            A        A        A\n",
      "   4 │ A            A        A        A\n",
      "   5 │ A            B        A        C\n"
     ]
    }
   ],
   "source": [
    "# Create the DataFrame\n",
    "df_grades = DataFrame(\n",
    "\tmathematics=get_gradenumber.(grades_array, 1),\n",
    "    history=get_gradenumber.(grades_array, 2), \n",
    "    science=get_gradenumber.(grades_array,3), \n",
    "    drama=get_gradenumber.(grades_array, 4),\n",
    ")\n",
    "\n",
    "println(first(df_grades, 5))"
   ]
  }
 ],
 "metadata": {
  "kernelspec": {
   "display_name": "Julia 1.8.5",
   "language": "julia",
   "name": "julia-1.8"
  },
  "language_info": {
   "file_extension": ".jl",
   "mimetype": "application/julia",
   "name": "julia",
   "version": "1.8.5"
  },
  "orig_nbformat": 4
 },
 "nbformat": 4,
 "nbformat_minor": 2
}
