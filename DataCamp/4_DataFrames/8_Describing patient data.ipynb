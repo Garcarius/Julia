{
 "cells": [
  {
   "attachments": {},
   "cell_type": "markdown",
   "metadata": {},
   "source": [
    "# Describing patient data\n",
    "This time, you have been tasked with producing a summary of the patient body temperature and heart rate data. You need to find the different columns' mean, minimum, and maximum. Luckily, you know a function that can calculate all of these at once.\n",
    "\n",
    "The DataFrame `df_patients` is available in your environment."
   ]
  },
  {
   "cell_type": "code",
   "execution_count": 1,
   "metadata": {},
   "outputs": [
    {
     "name": "stdout",
     "output_type": "stream",
     "text": [
      "\u001b[1m3×3 DataFrame\u001b[0m\n",
      "\u001b[1m Row \u001b[0m│\u001b[1m bodytemp \u001b[0m\u001b[1m sex     \u001b[0m\u001b[1m heartrate \u001b[0m\n",
      "     │\u001b[90m Float64  \u001b[0m\u001b[90m String7 \u001b[0m\u001b[90m Int64     \u001b[0m\n",
      "─────┼──────────────────────────────\n",
      "   1 │     97.6  female          61\n",
      "   2 │     97.4  male            70\n",
      "   3 │     98.5  male            71\n"
     ]
    }
   ],
   "source": [
    "using CSV\n",
    "using DataFrames\n",
    "path=\"D:\\\\Cursos\\\\Julia\\\\datasets\\\\\"\n",
    "# Load the CSV file\n",
    "df_patients = CSV.read(path*\"patients.csv\",DataFrame)\n",
    "println(first(df_patients,3))"
   ]
  },
  {
   "attachments": {},
   "cell_type": "markdown",
   "metadata": {},
   "source": [
    "* Use the `describe()` function to summarize the `df_patients` DataFrame and print the result."
   ]
  },
  {
   "cell_type": "code",
   "execution_count": null,
   "metadata": {},
   "outputs": [],
   "source": [
    "# Summarize the DataFrame\n",
    "println(describe(df_patients))"
   ]
  }
 ],
 "metadata": {
  "kernelspec": {
   "display_name": "Julia 1.8.5",
   "language": "julia",
   "name": "julia-1.8"
  },
  "language_info": {
   "file_extension": ".jl",
   "mimetype": "application/julia",
   "name": "julia",
   "version": "1.8.5"
  },
  "orig_nbformat": 4
 },
 "nbformat": 4,
 "nbformat_minor": 2
}
