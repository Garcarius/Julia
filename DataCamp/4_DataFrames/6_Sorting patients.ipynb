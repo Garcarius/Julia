{
 "cells": [
  {
   "attachments": {},
   "cell_type": "markdown",
   "metadata": {},
   "source": [
    "# Sorting patients\n",
    "You are looking at the patient data again, and you have come to realize just how unruly it is. Let's bring some order to this data using the `sort()` function.\n",
    "\n",
    "The patient data is available in your environment as `df_patients`."
   ]
  },
  {
   "cell_type": "code",
   "execution_count": 1,
   "metadata": {},
   "outputs": [
    {
     "data": {
      "text/html": [
       "<div><div style = \"float: left;\"><span>5×3 DataFrame</span></div><div style = \"clear: both;\"></div></div><div class = \"data-frame\" style = \"overflow-x: scroll;\"><table class = \"data-frame\" style = \"margin-bottom: 6px;\"><thead><tr class = \"header\"><th class = \"rowNumber\" style = \"font-weight: bold; text-align: right;\">Row</th><th style = \"text-align: left;\">bodytemp</th><th style = \"text-align: left;\">sex</th><th style = \"text-align: left;\">heartrate</th></tr><tr class = \"subheader headerLastRow\"><th class = \"rowNumber\" style = \"font-weight: bold; text-align: right;\"></th><th title = \"Float64\" style = \"text-align: left;\">Float64</th><th title = \"String7\" style = \"text-align: left;\">String7</th><th title = \"Int64\" style = \"text-align: left;\">Int64</th></tr></thead><tbody><tr><td class = \"rowNumber\" style = \"font-weight: bold; text-align: right;\">1</td><td style = \"text-align: right;\">97.6</td><td style = \"text-align: left;\">female</td><td style = \"text-align: right;\">61</td></tr><tr><td class = \"rowNumber\" style = \"font-weight: bold; text-align: right;\">2</td><td style = \"text-align: right;\">97.4</td><td style = \"text-align: left;\">male</td><td style = \"text-align: right;\">70</td></tr><tr><td class = \"rowNumber\" style = \"font-weight: bold; text-align: right;\">3</td><td style = \"text-align: right;\">98.5</td><td style = \"text-align: left;\">male</td><td style = \"text-align: right;\">71</td></tr><tr><td class = \"rowNumber\" style = \"font-weight: bold; text-align: right;\">4</td><td style = \"text-align: right;\">97.4</td><td style = \"text-align: left;\">female</td><td style = \"text-align: right;\">57</td></tr><tr><td class = \"rowNumber\" style = \"font-weight: bold; text-align: right;\">5</td><td style = \"text-align: right;\">98.2</td><td style = \"text-align: left;\">male</td><td style = \"text-align: right;\">64</td></tr></tbody></table></div>"
      ],
      "text/latex": [
       "\\begin{tabular}{r|ccc}\n",
       "\t& bodytemp & sex & heartrate\\\\\n",
       "\t\\hline\n",
       "\t& Float64 & String7 & Int64\\\\\n",
       "\t\\hline\n",
       "\t1 & 97.6 & female & 61 \\\\\n",
       "\t2 & 97.4 & male & 70 \\\\\n",
       "\t3 & 98.5 & male & 71 \\\\\n",
       "\t4 & 97.4 & female & 57 \\\\\n",
       "\t5 & 98.2 & male & 64 \\\\\n",
       "\\end{tabular}\n"
      ],
      "text/plain": [
       "\u001b[1m5×3 DataFrame\u001b[0m\n",
       "\u001b[1m Row \u001b[0m│\u001b[1m bodytemp \u001b[0m\u001b[1m sex     \u001b[0m\u001b[1m heartrate \u001b[0m\n",
       "     │\u001b[90m Float64  \u001b[0m\u001b[90m String7 \u001b[0m\u001b[90m Int64     \u001b[0m\n",
       "─────┼──────────────────────────────\n",
       "   1 │     97.6  female          61\n",
       "   2 │     97.4  male            70\n",
       "   3 │     98.5  male            71\n",
       "   4 │     97.4  female          57\n",
       "   5 │     98.2  male            64"
      ]
     },
     "metadata": {},
     "output_type": "display_data"
    }
   ],
   "source": [
    "using CSV\n",
    "using DataFrames\n",
    "path=\"D:\\\\Cursos\\\\Julia\\\\datasets\\\\\"\n",
    "# Load the CSV file\n",
    "df_patients = CSV.read(path*\"patients.csv\",DataFrame)\n",
    "first(df_patients,5)"
   ]
  },
  {
   "attachments": {},
   "cell_type": "markdown",
   "metadata": {},
   "source": [
    "* Sort `df_patients` according to the `heartrate` column from lowest to highest.\n",
    "* Slice out the first 5 rows of the sorted DataFrame and print them."
   ]
  },
  {
   "cell_type": "code",
   "execution_count": 2,
   "metadata": {},
   "outputs": [
    {
     "name": "stdout",
     "output_type": "stream",
     "text": [
      "\u001b[1m5×3 DataFrame\u001b[0m\n",
      "\u001b[1m Row \u001b[0m│\u001b[1m bodytemp \u001b[0m\u001b[1m sex     \u001b[0m\u001b[1m heartrate \u001b[0m\n",
      "     │\u001b[90m Float64  \u001b[0m\u001b[90m String7 \u001b[0m\u001b[90m Int64     \u001b[0m\n",
      "─────┼──────────────────────────────\n",
      "   1 │     97.4  female          57\n",
      "   2 │     98.2  female          57\n",
      "   3 │     97.8  male            58\n",
      "   4 │     98.7  female          59\n",
      "   5 │     97.6  female          61\n"
     ]
    }
   ],
   "source": [
    "# Sort the data by heart rate\n",
    "df_byheart = sort(df_patients, \"heartrate\")\n",
    "\n",
    "# Print the first 5 rows\n",
    "println(df_byheart[1:5, :])"
   ]
  },
  {
   "attachments": {},
   "cell_type": "markdown",
   "metadata": {},
   "source": [
    "* Sort `df_patients` according to the `bodytemp` column from highest to lowest.\n",
    "* Slice out the first 5 rows of the sorted DataFrame and print them."
   ]
  },
  {
   "cell_type": "code",
   "execution_count": 4,
   "metadata": {},
   "outputs": [
    {
     "ename": "UndefVarError",
     "evalue": "UndefVarError: fist not defined",
     "output_type": "error",
     "traceback": [
      "UndefVarError: fist not defined\n",
      "\n",
      "Stacktrace:\n",
      " [1] top-level scope\n",
      "   @ d:\\Cursos\\Julia\\DataCamp\\4_DataFrames\\6_Sorting patients.ipynb:5"
     ]
    }
   ],
   "source": [
    "# Sort the data by body temperature\n",
    "df_bytemp = sort(df_patients,\"bodytemp\",rev=true)\n",
    "\n",
    "# Print the first 5 rows\n",
    "println(first(df_bytemp,5))"
   ]
  }
 ],
 "metadata": {
  "kernelspec": {
   "display_name": "Julia 1.8.5",
   "language": "julia",
   "name": "julia-1.8"
  },
  "language_info": {
   "file_extension": ".jl",
   "mimetype": "application/julia",
   "name": "julia",
   "version": "1.8.5"
  },
  "orig_nbformat": 4
 },
 "nbformat": 4,
 "nbformat_minor": 2
}
