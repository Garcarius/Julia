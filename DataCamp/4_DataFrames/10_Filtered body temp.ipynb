{
 "cells": [
  {
   "attachments": {},
   "cell_type": "markdown",
   "metadata": {},
   "source": [
    "# Filtered body temp\n",
    "Now that you know how to filter data, you can dive deeper into the patient data and perform conditional data analysis.\n",
    "\n",
    "You are working with the patient data again. You are interested in whether the patient's body temperature depends on their sex. You can use filtering to answer this question.\n",
    "\n",
    "The patient DataFrame is available in your environment as `df_patients`. The `Statistics` package has been imported for you with the `using` keyword."
   ]
  },
  {
   "cell_type": "code",
   "execution_count": 1,
   "metadata": {},
   "outputs": [
    {
     "name": "stdout",
     "output_type": "stream",
     "text": [
      "\u001b[1m3×3 DataFrame\u001b[0m\n",
      "\u001b[1m Row \u001b[0m│\u001b[1m bodytemp \u001b[0m\u001b[1m sex     \u001b[0m\u001b[1m heartrate \u001b[0m\n",
      "     │\u001b[90m Float64  \u001b[0m\u001b[90m String7 \u001b[0m\u001b[90m Int64     \u001b[0m\n",
      "─────┼──────────────────────────────\n",
      "   1 │     97.6  female          61\n",
      "   2 │     97.4  male            70\n",
      "   3 │     98.5  male            71\n"
     ]
    }
   ],
   "source": [
    "using CSV\n",
    "using DataFrames\n",
    "using Statistics\n",
    "path=\"D:\\\\Cursos\\\\Julia\\\\datasets\\\\\"\n",
    "# Load the CSV file\n",
    "df_patients = CSV.read(path*\"patients.csv\",DataFrame)\n",
    "println(first(df_patients,3))"
   ]
  },
  {
   "attachments": {},
   "cell_type": "markdown",
   "metadata": {},
   "source": [
    "* Filter the DataFrame `df_patients` to rows where the value in the `sex` column is `\"female\"` and assign the result to the variable `df_female`."
   ]
  },
  {
   "cell_type": "code",
   "execution_count": 3,
   "metadata": {},
   "outputs": [
    {
     "data": {
      "text/html": [
       "<div><div style = \"float: left;\"><span>5×3 DataFrame</span></div><div style = \"clear: both;\"></div></div><div class = \"data-frame\" style = \"overflow-x: scroll;\"><table class = \"data-frame\" style = \"margin-bottom: 6px;\"><thead><tr class = \"header\"><th class = \"rowNumber\" style = \"font-weight: bold; text-align: right;\">Row</th><th style = \"text-align: left;\">bodytemp</th><th style = \"text-align: left;\">sex</th><th style = \"text-align: left;\">heartrate</th></tr><tr class = \"subheader headerLastRow\"><th class = \"rowNumber\" style = \"font-weight: bold; text-align: right;\"></th><th title = \"Float64\" style = \"text-align: left;\">Float64</th><th title = \"String7\" style = \"text-align: left;\">String7</th><th title = \"Int64\" style = \"text-align: left;\">Int64</th></tr></thead><tbody><tr><td class = \"rowNumber\" style = \"font-weight: bold; text-align: right;\">1</td><td style = \"text-align: right;\">97.6</td><td style = \"text-align: left;\">female</td><td style = \"text-align: right;\">61</td></tr><tr><td class = \"rowNumber\" style = \"font-weight: bold; text-align: right;\">2</td><td style = \"text-align: right;\">97.4</td><td style = \"text-align: left;\">female</td><td style = \"text-align: right;\">57</td></tr><tr><td class = \"rowNumber\" style = \"font-weight: bold; text-align: right;\">3</td><td style = \"text-align: right;\">98.8</td><td style = \"text-align: left;\">female</td><td style = \"text-align: right;\">83</td></tr><tr><td class = \"rowNumber\" style = \"font-weight: bold; text-align: right;\">4</td><td style = \"text-align: right;\">98.2</td><td style = \"text-align: left;\">female</td><td style = \"text-align: right;\">69</td></tr><tr><td class = \"rowNumber\" style = \"font-weight: bold; text-align: right;\">5</td><td style = \"text-align: right;\">98.7</td><td style = \"text-align: left;\">female</td><td style = \"text-align: right;\">65</td></tr></tbody></table></div>"
      ],
      "text/latex": [
       "\\begin{tabular}{r|ccc}\n",
       "\t& bodytemp & sex & heartrate\\\\\n",
       "\t\\hline\n",
       "\t& Float64 & String7 & Int64\\\\\n",
       "\t\\hline\n",
       "\t1 & 97.6 & female & 61 \\\\\n",
       "\t2 & 97.4 & female & 57 \\\\\n",
       "\t3 & 98.8 & female & 83 \\\\\n",
       "\t4 & 98.2 & female & 69 \\\\\n",
       "\t5 & 98.7 & female & 65 \\\\\n",
       "\\end{tabular}\n"
      ],
      "text/plain": [
       "\u001b[1m5×3 DataFrame\u001b[0m\n",
       "\u001b[1m Row \u001b[0m│\u001b[1m bodytemp \u001b[0m\u001b[1m sex     \u001b[0m\u001b[1m heartrate \u001b[0m\n",
       "     │\u001b[90m Float64  \u001b[0m\u001b[90m String7 \u001b[0m\u001b[90m Int64     \u001b[0m\n",
       "─────┼──────────────────────────────\n",
       "   1 │     97.6  female          61\n",
       "   2 │     97.4  female          57\n",
       "   3 │     98.8  female          83\n",
       "   4 │     98.2  female          69\n",
       "   5 │     98.7  female          65"
      ]
     },
     "metadata": {},
     "output_type": "display_data"
    }
   ],
   "source": [
    "# Filter to where the sex is female\n",
    "df_female = filter(row -> row.sex == \"female\", df_patients)\n",
    "first(df_female,5)"
   ]
  },
  {
   "attachments": {},
   "cell_type": "markdown",
   "metadata": {},
   "source": [
    "* Filter the DataFrame to rows where the `sex` is `\"male\"` and assign the result to `df_male`."
   ]
  },
  {
   "cell_type": "code",
   "execution_count": 4,
   "metadata": {},
   "outputs": [
    {
     "data": {
      "text/html": [
       "<div><div style = \"float: left;\"><span>5×3 DataFrame</span></div><div style = \"clear: both;\"></div></div><div class = \"data-frame\" style = \"overflow-x: scroll;\"><table class = \"data-frame\" style = \"margin-bottom: 6px;\"><thead><tr class = \"header\"><th class = \"rowNumber\" style = \"font-weight: bold; text-align: right;\">Row</th><th style = \"text-align: left;\">bodytemp</th><th style = \"text-align: left;\">sex</th><th style = \"text-align: left;\">heartrate</th></tr><tr class = \"subheader headerLastRow\"><th class = \"rowNumber\" style = \"font-weight: bold; text-align: right;\"></th><th title = \"Float64\" style = \"text-align: left;\">Float64</th><th title = \"String7\" style = \"text-align: left;\">String7</th><th title = \"Int64\" style = \"text-align: left;\">Int64</th></tr></thead><tbody><tr><td class = \"rowNumber\" style = \"font-weight: bold; text-align: right;\">1</td><td style = \"text-align: right;\">97.4</td><td style = \"text-align: left;\">male</td><td style = \"text-align: right;\">70</td></tr><tr><td class = \"rowNumber\" style = \"font-weight: bold; text-align: right;\">2</td><td style = \"text-align: right;\">98.5</td><td style = \"text-align: left;\">male</td><td style = \"text-align: right;\">71</td></tr><tr><td class = \"rowNumber\" style = \"font-weight: bold; text-align: right;\">3</td><td style = \"text-align: right;\">98.2</td><td style = \"text-align: left;\">male</td><td style = \"text-align: right;\">64</td></tr><tr><td class = \"rowNumber\" style = \"font-weight: bold; text-align: right;\">4</td><td style = \"text-align: right;\">98.5</td><td style = \"text-align: left;\">male</td><td style = \"text-align: right;\">68</td></tr><tr><td class = \"rowNumber\" style = \"font-weight: bold; text-align: right;\">5</td><td style = \"text-align: right;\">98.0</td><td style = \"text-align: left;\">male</td><td style = \"text-align: right;\">64</td></tr></tbody></table></div>"
      ],
      "text/latex": [
       "\\begin{tabular}{r|ccc}\n",
       "\t& bodytemp & sex & heartrate\\\\\n",
       "\t\\hline\n",
       "\t& Float64 & String7 & Int64\\\\\n",
       "\t\\hline\n",
       "\t1 & 97.4 & male & 70 \\\\\n",
       "\t2 & 98.5 & male & 71 \\\\\n",
       "\t3 & 98.2 & male & 64 \\\\\n",
       "\t4 & 98.5 & male & 68 \\\\\n",
       "\t5 & 98.0 & male & 64 \\\\\n",
       "\\end{tabular}\n"
      ],
      "text/plain": [
       "\u001b[1m5×3 DataFrame\u001b[0m\n",
       "\u001b[1m Row \u001b[0m│\u001b[1m bodytemp \u001b[0m\u001b[1m sex     \u001b[0m\u001b[1m heartrate \u001b[0m\n",
       "     │\u001b[90m Float64  \u001b[0m\u001b[90m String7 \u001b[0m\u001b[90m Int64     \u001b[0m\n",
       "─────┼──────────────────────────────\n",
       "   1 │     97.4  male            70\n",
       "   2 │     98.5  male            71\n",
       "   3 │     98.2  male            64\n",
       "   4 │     98.5  male            68\n",
       "   5 │     98.0  male            64"
      ]
     },
     "metadata": {},
     "output_type": "display_data"
    }
   ],
   "source": [
    "# Filter to where the sex is female\n",
    "df_female = filter(row -> row.sex == \"female\", df_patients)\n",
    "\n",
    "# Filter to where the sex is male\n",
    "df_male = filter(row -> row.sex == \"male\", df_patients)\n",
    "\n",
    "first(df_male,5)"
   ]
  },
  {
   "attachments": {},
   "cell_type": "markdown",
   "metadata": {},
   "source": [
    "* Calculate the mean of the bodytemp column of df_male.\n",
    "* Calculate the mean of the bodytemp column of df_female."
   ]
  },
  {
   "cell_type": "code",
   "execution_count": null,
   "metadata": {},
   "outputs": [],
   "source": [
    "# Filter to where the sex is female\n",
    "df_female = filter(row -> row.sex == \"female\", df_patients)\n",
    "\n",
    "# Filter to where the sex is male\n",
    "df_male = filter(row -> row.sex == \"male\", df_patients)\n",
    "\n",
    "# Calculate mean body temperature for females\n",
    "female_temp = mean(df_female.bodytemp)\n",
    "\n",
    "# Calculate mean body temperature for males\n",
    "male_temp = mean(df_male.bodytemp)\n",
    "\n",
    "println(\"Body temperatures of females is: $female_temp F\")\n",
    "println(\"Body temperatures of males is: $male_temp F\")"
   ]
  }
 ],
 "metadata": {
  "kernelspec": {
   "display_name": "Julia 1.8.5",
   "language": "julia",
   "name": "julia-1.8"
  },
  "language_info": {
   "file_extension": ".jl",
   "mimetype": "application/julia",
   "name": "julia",
   "version": "1.8.5"
  },
  "orig_nbformat": 4
 },
 "nbformat": 4,
 "nbformat_minor": 2
}
