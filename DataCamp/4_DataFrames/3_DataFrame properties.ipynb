{
 "cells": [
  {
   "attachments": {},
   "cell_type": "markdown",
   "metadata": {},
   "source": [
    "# DataFrame properties\n",
    "One of the benefits of DataFrames is that they allow us to work with big datasets much more easily than with arrays. These datasets can be very long and have lots of rows, and they can be very wide with lots of columns.\n",
    "\n",
    "In this chapter, you will work with the `\"books.csv\"` dataset. Each row corresponds to information about a single book and its ratings on a book review website.\n",
    "\n",
    "In this exercise, you'll explore the dataset to familiarize yourself with its columns and length. You'll analyze it in more depth later.\n",
    "\n",
    "The `DataFrames` and `CSV` packages have been imported for you with the `using` keyword.\n",
    "\n",
    "* Load the `\"books.csv\"` dataset into a DataFrame.\n",
    "* Use the `names()` function to print the column names of the dataset.\n",
    "* Use the `size()` function to print the number of rows and columns in the dataset."
   ]
  },
  {
   "cell_type": "code",
   "execution_count": 2,
   "metadata": {},
   "outputs": [
    {
     "data": {
      "text/html": [
       "<div><div style = \"float: left;\"><span>5×12 DataFrame</span></div><div style = \"clear: both;\"></div></div><div class = \"data-frame\" style = \"overflow-x: scroll;\"><table class = \"data-frame\" style = \"margin-bottom: 6px;\"><thead><tr class = \"header\"><th class = \"rowNumber\" style = \"font-weight: bold; text-align: right;\">Row</th><th style = \"text-align: left;\">goodreads_book_id</th><th style = \"text-align: left;\">authors</th><th style = \"text-align: left;\">original_publication_year</th><th style = \"text-align: left;\">title</th><th style = \"text-align: left;\">average_rating</th><th style = \"text-align: left;\">ratings_count</th><th style = \"text-align: left;\">work_text_reviews_count</th><th style = \"text-align: left;\">ratings_1</th><th style = \"text-align: left;\">ratings_2</th><th style = \"text-align: left;\">ratings_3</th><th style = \"text-align: left;\">ratings_4</th><th style = \"text-align: left;\">ratings_5</th></tr><tr class = \"subheader headerLastRow\"><th class = \"rowNumber\" style = \"font-weight: bold; text-align: right;\"></th><th title = \"Int64\" style = \"text-align: left;\">Int64</th><th title = \"String\" style = \"text-align: left;\">String</th><th title = \"Union{Missing, Int64}\" style = \"text-align: left;\">Int64?</th><th title = \"String\" style = \"text-align: left;\">String</th><th title = \"Float64\" style = \"text-align: left;\">Float64</th><th title = \"Int64\" style = \"text-align: left;\">Int64</th><th title = \"Int64\" style = \"text-align: left;\">Int64</th><th title = \"Int64\" style = \"text-align: left;\">Int64</th><th title = \"Int64\" style = \"text-align: left;\">Int64</th><th title = \"Int64\" style = \"text-align: left;\">Int64</th><th title = \"Int64\" style = \"text-align: left;\">Int64</th><th title = \"Int64\" style = \"text-align: left;\">Int64</th></tr></thead><tbody><tr><td class = \"rowNumber\" style = \"font-weight: bold; text-align: right;\">1</td><td style = \"text-align: right;\">2767052</td><td style = \"text-align: left;\">Suzanne Collins</td><td style = \"text-align: right;\">2008</td><td style = \"text-align: left;\">The Hunger Games (The Hunger Games, #1)</td><td style = \"text-align: right;\">4.34</td><td style = \"text-align: right;\">4780653</td><td style = \"text-align: right;\">155254</td><td style = \"text-align: right;\">66715</td><td style = \"text-align: right;\">127936</td><td style = \"text-align: right;\">560092</td><td style = \"text-align: right;\">1481305</td><td style = \"text-align: right;\">2706317</td></tr><tr><td class = \"rowNumber\" style = \"font-weight: bold; text-align: right;\">2</td><td style = \"text-align: right;\">3</td><td style = \"text-align: left;\">J.K. Rowling, Mary GrandPré</td><td style = \"text-align: right;\">1997</td><td style = \"text-align: left;\">Harry Potter and the Sorcerer&apos;s Stone (Harry Potter, #1)</td><td style = \"text-align: right;\">4.44</td><td style = \"text-align: right;\">4602479</td><td style = \"text-align: right;\">75867</td><td style = \"text-align: right;\">75504</td><td style = \"text-align: right;\">101676</td><td style = \"text-align: right;\">455024</td><td style = \"text-align: right;\">1156318</td><td style = \"text-align: right;\">3011543</td></tr><tr><td class = \"rowNumber\" style = \"font-weight: bold; text-align: right;\">3</td><td style = \"text-align: right;\">41865</td><td style = \"text-align: left;\">Stephenie Meyer</td><td style = \"text-align: right;\">2005</td><td style = \"text-align: left;\">Twilight (Twilight, #1)</td><td style = \"text-align: right;\">3.57</td><td style = \"text-align: right;\">3866839</td><td style = \"text-align: right;\">95009</td><td style = \"text-align: right;\">456191</td><td style = \"text-align: right;\">436802</td><td style = \"text-align: right;\">793319</td><td style = \"text-align: right;\">875073</td><td style = \"text-align: right;\">1355439</td></tr><tr><td class = \"rowNumber\" style = \"font-weight: bold; text-align: right;\">4</td><td style = \"text-align: right;\">2657</td><td style = \"text-align: left;\">Harper Lee</td><td style = \"text-align: right;\">1960</td><td style = \"text-align: left;\">To Kill a Mockingbird</td><td style = \"text-align: right;\">4.25</td><td style = \"text-align: right;\">3198671</td><td style = \"text-align: right;\">72586</td><td style = \"text-align: right;\">60427</td><td style = \"text-align: right;\">117415</td><td style = \"text-align: right;\">446835</td><td style = \"text-align: right;\">1001952</td><td style = \"text-align: right;\">1714267</td></tr><tr><td class = \"rowNumber\" style = \"font-weight: bold; text-align: right;\">5</td><td style = \"text-align: right;\">4671</td><td style = \"text-align: left;\">F. Scott Fitzgerald</td><td style = \"text-align: right;\">1925</td><td style = \"text-align: left;\">The Great Gatsby</td><td style = \"text-align: right;\">3.89</td><td style = \"text-align: right;\">2683664</td><td style = \"text-align: right;\">51992</td><td style = \"text-align: right;\">86236</td><td style = \"text-align: right;\">197621</td><td style = \"text-align: right;\">606158</td><td style = \"text-align: right;\">936012</td><td style = \"text-align: right;\">947718</td></tr></tbody></table></div>"
      ],
      "text/latex": [
       "\\begin{tabular}{r|ccccc}\n",
       "\t& goodreads\\_book\\_id & authors & original\\_publication\\_year & title & \\\\\n",
       "\t\\hline\n",
       "\t& Int64 & String & Int64? & String & \\\\\n",
       "\t\\hline\n",
       "\t1 & 2767052 & Suzanne Collins & 2008 & The Hunger Games (The Hunger Games, \\#1) & $\\dots$ \\\\\n",
       "\t2 & 3 & J.K. Rowling, Mary GrandPré & 1997 & Harry Potter and the Sorcerer's Stone (Harry Potter, \\#1) & $\\dots$ \\\\\n",
       "\t3 & 41865 & Stephenie Meyer & 2005 & Twilight (Twilight, \\#1) & $\\dots$ \\\\\n",
       "\t4 & 2657 & Harper Lee & 1960 & To Kill a Mockingbird & $\\dots$ \\\\\n",
       "\t5 & 4671 & F. Scott Fitzgerald & 1925 & The Great Gatsby & $\\dots$ \\\\\n",
       "\\end{tabular}\n"
      ],
      "text/plain": [
       "\u001b[1m5×12 DataFrame\u001b[0m\n",
       "\u001b[1m Row \u001b[0m│\u001b[1m goodreads_book_id \u001b[0m\u001b[1m authors                     \u001b[0m\u001b[1m original_publication_ye\u001b[0m ⋯\n",
       "     │\u001b[90m Int64             \u001b[0m\u001b[90m String                      \u001b[0m\u001b[90m Union{Missing, Int64}  \u001b[0m ⋯\n",
       "─────┼──────────────────────────────────────────────────────────────────────────\n",
       "   1 │           2767052  Suzanne Collins                                   20 ⋯\n",
       "   2 │                 3  J.K. Rowling, Mary GrandPré                       19\n",
       "   3 │             41865  Stephenie Meyer                                   20\n",
       "   4 │              2657  Harper Lee                                        19\n",
       "   5 │              4671  F. Scott Fitzgerald                               19 ⋯\n",
       "\u001b[36m                                                              10 columns omitted\u001b[0m"
      ]
     },
     "metadata": {},
     "output_type": "display_data"
    }
   ],
   "source": [
    "using CSV\n",
    "using DataFrames\n",
    "path=\"D:\\\\Cursos\\\\Julia\\\\datasets\\\\\"\n",
    "# Load the CSV file\n",
    "file_contents = CSV.read(path*\"books.csv\",DataFrame)\n",
    "first(file_contents,5)"
   ]
  },
  {
   "cell_type": "code",
   "execution_count": 3,
   "metadata": {},
   "outputs": [
    {
     "name": "stdout",
     "output_type": "stream",
     "text": [
      "[\"goodreads_book_id\", \"authors\", \"original_publication_year\", \"title\", \"average_rating\", \"ratings_count\", \"work_text_reviews_count\", \""
     ]
    },
    {
     "name": "stdout",
     "output_type": "stream",
     "text": [
      "ratings_1\", \"ratings_2\", \"ratings_3\", \"ratings_4\", \"ratings_5\"]"
     ]
    },
    {
     "name": "stdout",
     "output_type": "stream",
     "text": [
      "\n",
      "(10000, 12)\n"
     ]
    }
   ],
   "source": [
    "# Load the book review data\n",
    "df_books = DataFrame(CSV.File(path*\"books.csv\"))\n",
    "\n",
    "# Print column names\n",
    "println(names(df_books))\n",
    "\n",
    "# Find number of rows and columns\n",
    "println(size(df_books))"
   ]
  }
 ],
 "metadata": {
  "kernelspec": {
   "display_name": "Julia 1.8.5",
   "language": "julia",
   "name": "julia-1.8"
  },
  "language_info": {
   "file_extension": ".jl",
   "mimetype": "application/julia",
   "name": "julia",
   "version": "1.8.5"
  },
  "orig_nbformat": 4
 },
 "nbformat": 4,
 "nbformat_minor": 2
}
