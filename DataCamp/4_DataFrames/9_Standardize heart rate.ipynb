{
 "cells": [
  {
   "attachments": {
    "image.png": {
     "image/png": "[encoded data removed]"
    }
   },
   "cell_type": "markdown",
   "metadata": {},
   "source": [
    "# Standardize heart rate\n",
    "\"Standardization\" is a data transformation that modifies values of (variable) \n",
    " as:\n",
    "\n",
    " ![image.png](attachment:image.png)\n",
    "\n",
    "where \n",
    " is the mean value of the data, and \n",
    " is its standard deviation.\n",
    "\n",
    "Standardization can be helpful when you don't know how to interpret an absolute value. For example, what does a heart rate of 78 beats per minute mean? Is it high, low, or average?\n",
    "\n",
    "In this exercise, you'll calculate the mean and standard deviation of the heart rate data and create a new column of standardized heart rates to help answer this question.\n",
    "\n",
    "The patient data is available in your environment as `df_patients`. The `Statistics` package has been imported for you with the `using` keyword."
   ]
  },
  {
   "cell_type": "code",
   "execution_count": 1,
   "metadata": {},
   "outputs": [
    {
     "name": "stdout",
     "output_type": "stream",
     "text": [
      "\u001b[1m3×3 DataFrame\u001b[0m\n",
      "\u001b[1m Row \u001b[0m│\u001b[1m bodytemp \u001b[0m\u001b[1m sex     \u001b[0m\u001b[1m heartrate \u001b[0m\n",
      "     │\u001b[90m Float64  \u001b[0m\u001b[90m String7 \u001b[0m\u001b[90m Int64     \u001b[0m\n",
      "─────┼──────────────────────────────\n",
      "   1 │     97.6  female          61\n",
      "   2 │     97.4  male            70\n",
      "   3 │     98.5  male            71\n"
     ]
    }
   ],
   "source": [
    "using CSV\n",
    "using DataFrames\n",
    "using Statistics\n",
    "path=\"D:\\\\Cursos\\\\Julia\\\\datasets\\\\\"\n",
    "# Load the CSV file\n",
    "df_patients = CSV.read(path*\"patients.csv\",DataFrame)\n",
    "println(first(df_patients,3))"
   ]
  },
  {
   "attachments": {},
   "cell_type": "markdown",
   "metadata": {},
   "source": [
    "* Calculate the mean of the heart rates using the `mean()` function."
   ]
  },
  {
   "cell_type": "code",
   "execution_count": 3,
   "metadata": {},
   "outputs": [
    {
     "data": {
      "text/plain": [
       "73.76153846153846"
      ]
     },
     "metadata": {},
     "output_type": "display_data"
    }
   ],
   "source": [
    "# Find the mean heart rate\n",
    "mean_hr = mean(df_patients[:,\"heartrate\"])"
   ]
  },
  {
   "attachments": {},
   "cell_type": "markdown",
   "metadata": {},
   "source": [
    "* Calculate the standard deviation of the heart rates using the `std()` function."
   ]
  },
  {
   "cell_type": "code",
   "execution_count": 4,
   "metadata": {},
   "outputs": [
    {
     "data": {
      "text/plain": [
       "7.062076737571353"
      ]
     },
     "metadata": {},
     "output_type": "display_data"
    }
   ],
   "source": [
    "# Find the mean heart rate\n",
    "mean_hr = mean(df_patients.heartrate)\n",
    "\n",
    "# Find the standard deviation of heart rates\n",
    "std_hr = std(df_patients.heartrate)"
   ]
  },
  {
   "attachments": {},
   "cell_type": "markdown",
   "metadata": {},
   "source": [
    "* Calculate an array of the standardized heart rates using the array operations `.-` and `./.`"
   ]
  },
  {
   "cell_type": "code",
   "execution_count": 5,
   "metadata": {},
   "outputs": [
    {
     "data": {
      "text/plain": [
       "130-element Vector{Float64}:\n",
       " -1.8070517973339322\n",
       " -0.5326391373696765\n",
       " -0.3910377307069814\n",
       " -2.3734574239847124\n",
       " -1.382247577345847\n",
       "  1.3081791492453594\n",
       " -0.6742405440323715\n",
       " -0.8158419506950666\n",
       " -1.382247577345847\n",
       " -1.2406461706831517\n",
       "  ⋮\n",
       "  0.458570709269189\n",
       "  0.6001721159318841\n",
       "  1.3081791492453594\n",
       "  0.6001721159318841\n",
       " -0.10783491738159123\n",
       "  0.6001721159318841\n",
       " -1.382247577345847\n",
       "  0.03376648928110384\n",
       " -0.2494363240442863"
      ]
     },
     "metadata": {},
     "output_type": "display_data"
    }
   ],
   "source": [
    "# Find the mean heart rate\n",
    "mean_hr = mean(df_patients.heartrate)\n",
    "\n",
    "# Find the standard deviation of heart rates\n",
    "std_hr = std(df_patients.heartrate)\n",
    "\n",
    "# Calculate the normalized array of heart rates\n",
    "norm_heartrate = (df_patients.heartrate .- mean_hr)./std_hr"
   ]
  },
  {
   "attachments": {},
   "cell_type": "markdown",
   "metadata": {},
   "source": [
    "* Add the array `norm_heartrate` to `df_patients` as a new column named norm_heartrate"
   ]
  }
 ],
 "metadata": {
  "kernelspec": {
   "display_name": "Julia 1.8.5",
   "language": "julia",
   "name": "julia-1.8"
  },
  "language_info": {
   "file_extension": ".jl",
   "mimetype": "application/julia",
   "name": "julia",
   "version": "1.8.5"
  },
  "orig_nbformat": 4
 },
 "nbformat": 4,
 "nbformat_minor": 2
}
