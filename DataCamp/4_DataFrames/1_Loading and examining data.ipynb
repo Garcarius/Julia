{
 "cells": [
  {
   "attachments": {},
   "cell_type": "markdown",
   "metadata": {},
   "source": [
    "# Loading and examining data\n",
    "Accessing data is the very first step of any analysis. Tabular data, which can be stored in CSV files, is the most common type of data out there, so it is vital that you know how to handle it.\n",
    "\n",
    "In this exercise, you will load some patient data of body temperatures and heart rates from a CSV file. You used this body temperature data in chapter 2, where you converted it from Fahrenheit to Celsius. Now that you know how to use DataFrames, you can load it yourself!"
   ]
  },
  {
   "cell_type": "code",
   "execution_count": null,
   "metadata": {},
   "outputs": [],
   "source": [
    "# Import packages\n",
    "using DataFrames\n",
    "using CSV"
   ]
  },
  {
   "attachments": {},
   "cell_type": "markdown",
   "metadata": {},
   "source": [
    "* Load the `\"patients.csv\"` data file using the `CSV.File()` function."
   ]
  },
  {
   "cell_type": "code",
   "execution_count": 5,
   "metadata": {},
   "outputs": [
    {
     "data": {
      "text/html": [
       "<div><div style = \"float: left;\"><span>130×3 DataFrame</span></div><div style = \"float: right;\"><span style = \"font-style: italic;\">105 rows omitted</span></div><div style = \"clear: both;\"></div></div><div class = \"data-frame\" style = \"overflow-x: scroll;\"><table class = \"data-frame\" style = \"margin-bottom: 6px;\"><thead><tr class = \"header\"><th class = \"rowNumber\" style = \"font-weight: bold; text-align: right;\">Row</th><th style = \"text-align: left;\">bodytemp</th><th style = \"text-align: left;\">sex</th><th style = \"text-align: left;\">heartrate</th></tr><tr class = \"subheader headerLastRow\"><th class = \"rowNumber\" style = \"font-weight: bold; text-align: right;\"></th><th title = \"Float64\" style = \"text-align: left;\">Float64</th><th title = \"String7\" style = \"text-align: left;\">String7</th><th title = \"Int64\" style = \"text-align: left;\">Int64</th></tr></thead><tbody><tr><td class = \"rowNumber\" style = \"font-weight: bold; text-align: right;\">1</td><td style = \"text-align: right;\">97.6</td><td style = \"text-align: left;\">female</td><td style = \"text-align: right;\">61</td></tr><tr><td class = \"rowNumber\" style = \"font-weight: bold; text-align: right;\">2</td><td style = \"text-align: right;\">97.4</td><td style = \"text-align: left;\">male</td><td style = \"text-align: right;\">70</td></tr><tr><td class = \"rowNumber\" style = \"font-weight: bold; text-align: right;\">3</td><td style = \"text-align: right;\">98.5</td><td style = \"text-align: left;\">male</td><td style = \"text-align: right;\">71</td></tr><tr><td class = \"rowNumber\" style = \"font-weight: bold; text-align: right;\">4</td><td style = \"text-align: right;\">97.4</td><td style = \"text-align: left;\">female</td><td style = \"text-align: right;\">57</td></tr><tr><td class = \"rowNumber\" style = \"font-weight: bold; text-align: right;\">5</td><td style = \"text-align: right;\">98.2</td><td style = \"text-align: left;\">male</td><td style = \"text-align: right;\">64</td></tr><tr><td class = \"rowNumber\" style = \"font-weight: bold; text-align: right;\">6</td><td style = \"text-align: right;\">98.8</td><td style = \"text-align: left;\">female</td><td style = \"text-align: right;\">83</td></tr><tr><td class = \"rowNumber\" style = \"font-weight: bold; text-align: right;\">7</td><td style = \"text-align: right;\">98.2</td><td style = \"text-align: left;\">female</td><td style = \"text-align: right;\">69</td></tr><tr><td class = \"rowNumber\" style = \"font-weight: bold; text-align: right;\">8</td><td style = \"text-align: right;\">98.5</td><td style = \"text-align: left;\">male</td><td style = \"text-align: right;\">68</td></tr><tr><td class = \"rowNumber\" style = \"font-weight: bold; text-align: right;\">9</td><td style = \"text-align: right;\">98.0</td><td style = \"text-align: left;\">male</td><td style = \"text-align: right;\">64</td></tr><tr><td class = \"rowNumber\" style = \"font-weight: bold; text-align: right;\">10</td><td style = \"text-align: right;\">98.7</td><td style = \"text-align: left;\">female</td><td style = \"text-align: right;\">65</td></tr><tr><td class = \"rowNumber\" style = \"font-weight: bold; text-align: right;\">11</td><td style = \"text-align: right;\">97.2</td><td style = \"text-align: left;\">male</td><td style = \"text-align: right;\">64</td></tr><tr><td class = \"rowNumber\" style = \"font-weight: bold; text-align: right;\">12</td><td style = \"text-align: right;\">98.4</td><td style = \"text-align: left;\">female</td><td style = \"text-align: right;\">79</td></tr><tr><td class = \"rowNumber\" style = \"font-weight: bold; text-align: right;\">13</td><td style = \"text-align: right;\">97.6</td><td style = \"text-align: left;\">male</td><td style = \"text-align: right;\">73</td></tr><tr><td style = \"text-align: right;\">&vellip;</td><td style = \"text-align: right;\">&vellip;</td><td style = \"text-align: right;\">&vellip;</td><td style = \"text-align: right;\">&vellip;</td></tr><tr><td class = \"rowNumber\" style = \"font-weight: bold; text-align: right;\">119</td><td style = \"text-align: right;\">97.0</td><td style = \"text-align: left;\">male</td><td style = \"text-align: right;\">80</td></tr><tr><td class = \"rowNumber\" style = \"font-weight: bold; text-align: right;\">120</td><td style = \"text-align: right;\">98.9</td><td style = \"text-align: left;\">female</td><td style = \"text-align: right;\">76</td></tr><tr><td class = \"rowNumber\" style = \"font-weight: bold; text-align: right;\">121</td><td style = \"text-align: right;\">100.8</td><td style = \"text-align: left;\">female</td><td style = \"text-align: right;\">77</td></tr><tr><td class = \"rowNumber\" style = \"font-weight: bold; text-align: right;\">122</td><td style = \"text-align: right;\">99.2</td><td style = \"text-align: left;\">female</td><td style = \"text-align: right;\">77</td></tr><tr><td class = \"rowNumber\" style = \"font-weight: bold; text-align: right;\">123</td><td style = \"text-align: right;\">97.4</td><td style = \"text-align: left;\">male</td><td style = \"text-align: right;\">78</td></tr><tr><td class = \"rowNumber\" style = \"font-weight: bold; text-align: right;\">124</td><td style = \"text-align: right;\">99.2</td><td style = \"text-align: left;\">male</td><td style = \"text-align: right;\">83</td></tr><tr><td class = \"rowNumber\" style = \"font-weight: bold; text-align: right;\">125</td><td style = \"text-align: right;\">98.8</td><td style = \"text-align: left;\">male</td><td style = \"text-align: right;\">78</td></tr><tr><td class = \"rowNumber\" style = \"font-weight: bold; text-align: right;\">126</td><td style = \"text-align: right;\">98.1</td><td style = \"text-align: left;\">male</td><td style = \"text-align: right;\">73</td></tr><tr><td class = \"rowNumber\" style = \"font-weight: bold; text-align: right;\">127</td><td style = \"text-align: right;\">98.7</td><td style = \"text-align: left;\">male</td><td style = \"text-align: right;\">78</td></tr><tr><td class = \"rowNumber\" style = \"font-weight: bold; text-align: right;\">128</td><td style = \"text-align: right;\">98.7</td><td style = \"text-align: left;\">female</td><td style = \"text-align: right;\">64</td></tr><tr><td class = \"rowNumber\" style = \"font-weight: bold; text-align: right;\">129</td><td style = \"text-align: right;\">96.9</td><td style = \"text-align: left;\">male</td><td style = \"text-align: right;\">74</td></tr><tr><td class = \"rowNumber\" style = \"font-weight: bold; text-align: right;\">130</td><td style = \"text-align: right;\">98.3</td><td style = \"text-align: left;\">male</td><td style = \"text-align: right;\">72</td></tr></tbody></table></div>"
      ],
      "text/latex": [
       "\\begin{tabular}{r|ccc}\n",
       "\t& bodytemp & sex & heartrate\\\\\n",
       "\t\\hline\n",
       "\t& Float64 & String7 & Int64\\\\\n",
       "\t\\hline\n",
       "\t1 & 97.6 & female & 61 \\\\\n",
       "\t2 & 97.4 & male & 70 \\\\\n",
       "\t3 & 98.5 & male & 71 \\\\\n",
       "\t4 & 97.4 & female & 57 \\\\\n",
       "\t5 & 98.2 & male & 64 \\\\\n",
       "\t6 & 98.8 & female & 83 \\\\\n",
       "\t7 & 98.2 & female & 69 \\\\\n",
       "\t8 & 98.5 & male & 68 \\\\\n",
       "\t9 & 98.0 & male & 64 \\\\\n",
       "\t10 & 98.7 & female & 65 \\\\\n",
       "\t11 & 97.2 & male & 64 \\\\\n",
       "\t12 & 98.4 & female & 79 \\\\\n",
       "\t13 & 97.6 & male & 73 \\\\\n",
       "\t14 & 98.4 & male & 68 \\\\\n",
       "\t15 & 97.8 & female & 71 \\\\\n",
       "\t16 & 98.4 & male & 70 \\\\\n",
       "\t17 & 97.8 & male & 58 \\\\\n",
       "\t18 & 98.8 & female & 73 \\\\\n",
       "\t19 & 98.0 & female & 78 \\\\\n",
       "\t20 & 98.8 & female & 64 \\\\\n",
       "\t21 & 96.4 & female & 69 \\\\\n",
       "\t22 & 97.7 & male & 77 \\\\\n",
       "\t23 & 97.5 & male & 70 \\\\\n",
       "\t24 & 99.0 & male & 75 \\\\\n",
       "\t$\\dots$ & $\\dots$ & $\\dots$ & $\\dots$ \\\\\n",
       "\\end{tabular}\n"
      ],
      "text/plain": [
       "\u001b[1m130×3 DataFrame\u001b[0m\n",
       "\u001b[1m Row \u001b[0m│\u001b[1m bodytemp \u001b[0m\u001b[1m sex     \u001b[0m\u001b[1m heartrate \u001b[0m\n",
       "     │\u001b[90m Float64  \u001b[0m\u001b[90m String7 \u001b[0m\u001b[90m Int64     \u001b[0m\n",
       "─────┼──────────────────────────────\n",
       "   1 │     97.6  female          61\n",
       "   2 │     97.4  male            70\n",
       "   3 │     98.5  male            71\n",
       "   4 │     97.4  female          57\n",
       "   5 │     98.2  male            64\n",
       "   6 │     98.8  female          83\n",
       "   7 │     98.2  female          69\n",
       "   8 │     98.5  male            68\n",
       "  ⋮  │    ⋮         ⋮         ⋮\n",
       " 124 │     99.2  male            83\n",
       " 125 │     98.8  male            78\n",
       " 126 │     98.1  male            73\n",
       " 127 │     98.7  male            78\n",
       " 128 │     98.7  female          64\n",
       " 129 │     96.9  male            74\n",
       " 130 │     98.3  male            72\n",
       "\u001b[36m                    115 rows omitted\u001b[0m"
      ]
     },
     "metadata": {},
     "output_type": "display_data"
    }
   ],
   "source": [
    "using CSV\n",
    "using DataFrames\n",
    "path=\"D:\\\\Cursos\\\\Julia\\\\datasets\\\\\"\n",
    "# Load the CSV file\n",
    "file_contents = CSV.read(path*\"patients.csv\",DataFrame)"
   ]
  },
  {
   "cell_type": "code",
   "execution_count": 6,
   "metadata": {},
   "outputs": [
    {
     "data": {
      "text/plain": [
       "130-element CSV.File:\n",
       " CSV.Row: (bodytemp = 97.6, sex = String7(\"female\"), heartrate = 61)\n",
       " CSV.Row: (bodytemp = 97.4, sex = String7(\"male\"), heartrate = 70)\n",
       " CSV.Row: (bodytemp = 98.5, sex = String7(\"male\"), heartrate = 71)\n",
       " CSV.Row: (bodytemp = 97.4, sex = String7(\"female\"), heartrate = 57)\n",
       " CSV.Row: (bodytemp = 98.2, sex = String7(\"male\"), heartrate = 64)\n",
       " CSV.Row: (bodytemp = 98.8, sex = String7(\"female\"), heartrate = 83)\n",
       " CSV.Row: (bodytemp = 98.2, sex = String7(\"female\"), heartrate = 69)\n",
       " CSV.Row: (bodytemp = 98.5, sex = String7(\"male\"), heartrate = 68)\n",
       " CSV.Row: (bodytemp = 98.0, sex = String7(\"male\"), heartrate = 64)\n",
       " CSV.Row: (bodytemp = 98.7, sex = String7(\"female\"), heartrate = 65)\n",
       " ⋮\n",
       " CSV.Row: (bodytemp = 99.2, sex = String7(\"female\"), heartrate = 77)\n",
       " CSV.Row: (bodytemp = 97.4, sex = String7(\"male\"), heartrate = 78)\n",
       " CSV.Row: (bodytemp = 99.2, sex = String7(\"male\"), heartrate = 83)\n",
       " CSV.Row: (bodytemp = 98.8, sex = String7(\"male\"), heartrate = 78)\n",
       " CSV.Row: (bodytemp = 98.1, sex = String7(\"male\"), heartrate = 73)\n",
       " CSV.Row: (bodytemp = 98.7, sex = String7(\"male\"), heartrate = 78)\n",
       " CSV.Row: (bodytemp = 98.7, sex = String7(\"female\"), heartrate = 64)\n",
       " CSV.Row: (bodytemp = 96.9, sex = String7(\"male\"), heartrate = 74)\n",
       " CSV.Row: (bodytemp = 98.3, sex = String7(\"male\"), heartrate = 72)"
      ]
     },
     "metadata": {},
     "output_type": "display_data"
    }
   ],
   "source": [
    "using CSV\n",
    "using DataFrames\n",
    "path=\"D:\\\\Cursos\\\\Julia\\\\datasets\\\\\"\n",
    "# Load the CSV file\n",
    "file_contents = CSV.File(path*\"patients.csv\")"
   ]
  },
  {
   "cell_type": "code",
   "execution_count": 7,
   "metadata": {},
   "outputs": [
    {
     "data": {
      "text/html": [
       "<div><div style = \"float: left;\"><span>130×3 DataFrame</span></div><div style = \"float: right;\"><span style = \"font-style: italic;\">105 rows omitted</span></div><div style = \"clear: both;\"></div></div><div class = \"data-frame\" style = \"overflow-x: scroll;\"><table class = \"data-frame\" style = \"margin-bottom: 6px;\"><thead><tr class = \"header\"><th class = \"rowNumber\" style = \"font-weight: bold; text-align: right;\">Row</th><th style = \"text-align: left;\">bodytemp</th><th style = \"text-align: left;\">sex</th><th style = \"text-align: left;\">heartrate</th></tr><tr class = \"subheader headerLastRow\"><th class = \"rowNumber\" style = \"font-weight: bold; text-align: right;\"></th><th title = \"Float64\" style = \"text-align: left;\">Float64</th><th title = \"String7\" style = \"text-align: left;\">String7</th><th title = \"Int64\" style = \"text-align: left;\">Int64</th></tr></thead><tbody><tr><td class = \"rowNumber\" style = \"font-weight: bold; text-align: right;\">1</td><td style = \"text-align: right;\">97.6</td><td style = \"text-align: left;\">female</td><td style = \"text-align: right;\">61</td></tr><tr><td class = \"rowNumber\" style = \"font-weight: bold; text-align: right;\">2</td><td style = \"text-align: right;\">97.4</td><td style = \"text-align: left;\">male</td><td style = \"text-align: right;\">70</td></tr><tr><td class = \"rowNumber\" style = \"font-weight: bold; text-align: right;\">3</td><td style = \"text-align: right;\">98.5</td><td style = \"text-align: left;\">male</td><td style = \"text-align: right;\">71</td></tr><tr><td class = \"rowNumber\" style = \"font-weight: bold; text-align: right;\">4</td><td style = \"text-align: right;\">97.4</td><td style = \"text-align: left;\">female</td><td style = \"text-align: right;\">57</td></tr><tr><td class = \"rowNumber\" style = \"font-weight: bold; text-align: right;\">5</td><td style = \"text-align: right;\">98.2</td><td style = \"text-align: left;\">male</td><td style = \"text-align: right;\">64</td></tr><tr><td class = \"rowNumber\" style = \"font-weight: bold; text-align: right;\">6</td><td style = \"text-align: right;\">98.8</td><td style = \"text-align: left;\">female</td><td style = \"text-align: right;\">83</td></tr><tr><td class = \"rowNumber\" style = \"font-weight: bold; text-align: right;\">7</td><td style = \"text-align: right;\">98.2</td><td style = \"text-align: left;\">female</td><td style = \"text-align: right;\">69</td></tr><tr><td class = \"rowNumber\" style = \"font-weight: bold; text-align: right;\">8</td><td style = \"text-align: right;\">98.5</td><td style = \"text-align: left;\">male</td><td style = \"text-align: right;\">68</td></tr><tr><td class = \"rowNumber\" style = \"font-weight: bold; text-align: right;\">9</td><td style = \"text-align: right;\">98.0</td><td style = \"text-align: left;\">male</td><td style = \"text-align: right;\">64</td></tr><tr><td class = \"rowNumber\" style = \"font-weight: bold; text-align: right;\">10</td><td style = \"text-align: right;\">98.7</td><td style = \"text-align: left;\">female</td><td style = \"text-align: right;\">65</td></tr><tr><td class = \"rowNumber\" style = \"font-weight: bold; text-align: right;\">11</td><td style = \"text-align: right;\">97.2</td><td style = \"text-align: left;\">male</td><td style = \"text-align: right;\">64</td></tr><tr><td class = \"rowNumber\" style = \"font-weight: bold; text-align: right;\">12</td><td style = \"text-align: right;\">98.4</td><td style = \"text-align: left;\">female</td><td style = \"text-align: right;\">79</td></tr><tr><td class = \"rowNumber\" style = \"font-weight: bold; text-align: right;\">13</td><td style = \"text-align: right;\">97.6</td><td style = \"text-align: left;\">male</td><td style = \"text-align: right;\">73</td></tr><tr><td style = \"text-align: right;\">&vellip;</td><td style = \"text-align: right;\">&vellip;</td><td style = \"text-align: right;\">&vellip;</td><td style = \"text-align: right;\">&vellip;</td></tr><tr><td class = \"rowNumber\" style = \"font-weight: bold; text-align: right;\">119</td><td style = \"text-align: right;\">97.0</td><td style = \"text-align: left;\">male</td><td style = \"text-align: right;\">80</td></tr><tr><td class = \"rowNumber\" style = \"font-weight: bold; text-align: right;\">120</td><td style = \"text-align: right;\">98.9</td><td style = \"text-align: left;\">female</td><td style = \"text-align: right;\">76</td></tr><tr><td class = \"rowNumber\" style = \"font-weight: bold; text-align: right;\">121</td><td style = \"text-align: right;\">100.8</td><td style = \"text-align: left;\">female</td><td style = \"text-align: right;\">77</td></tr><tr><td class = \"rowNumber\" style = \"font-weight: bold; text-align: right;\">122</td><td style = \"text-align: right;\">99.2</td><td style = \"text-align: left;\">female</td><td style = \"text-align: right;\">77</td></tr><tr><td class = \"rowNumber\" style = \"font-weight: bold; text-align: right;\">123</td><td style = \"text-align: right;\">97.4</td><td style = \"text-align: left;\">male</td><td style = \"text-align: right;\">78</td></tr><tr><td class = \"rowNumber\" style = \"font-weight: bold; text-align: right;\">124</td><td style = \"text-align: right;\">99.2</td><td style = \"text-align: left;\">male</td><td style = \"text-align: right;\">83</td></tr><tr><td class = \"rowNumber\" style = \"font-weight: bold; text-align: right;\">125</td><td style = \"text-align: right;\">98.8</td><td style = \"text-align: left;\">male</td><td style = \"text-align: right;\">78</td></tr><tr><td class = \"rowNumber\" style = \"font-weight: bold; text-align: right;\">126</td><td style = \"text-align: right;\">98.1</td><td style = \"text-align: left;\">male</td><td style = \"text-align: right;\">73</td></tr><tr><td class = \"rowNumber\" style = \"font-weight: bold; text-align: right;\">127</td><td style = \"text-align: right;\">98.7</td><td style = \"text-align: left;\">male</td><td style = \"text-align: right;\">78</td></tr><tr><td class = \"rowNumber\" style = \"font-weight: bold; text-align: right;\">128</td><td style = \"text-align: right;\">98.7</td><td style = \"text-align: left;\">female</td><td style = \"text-align: right;\">64</td></tr><tr><td class = \"rowNumber\" style = \"font-weight: bold; text-align: right;\">129</td><td style = \"text-align: right;\">96.9</td><td style = \"text-align: left;\">male</td><td style = \"text-align: right;\">74</td></tr><tr><td class = \"rowNumber\" style = \"font-weight: bold; text-align: right;\">130</td><td style = \"text-align: right;\">98.3</td><td style = \"text-align: left;\">male</td><td style = \"text-align: right;\">72</td></tr></tbody></table></div>"
      ],
      "text/latex": [
       "\\begin{tabular}{r|ccc}\n",
       "\t& bodytemp & sex & heartrate\\\\\n",
       "\t\\hline\n",
       "\t& Float64 & String7 & Int64\\\\\n",
       "\t\\hline\n",
       "\t1 & 97.6 & female & 61 \\\\\n",
       "\t2 & 97.4 & male & 70 \\\\\n",
       "\t3 & 98.5 & male & 71 \\\\\n",
       "\t4 & 97.4 & female & 57 \\\\\n",
       "\t5 & 98.2 & male & 64 \\\\\n",
       "\t6 & 98.8 & female & 83 \\\\\n",
       "\t7 & 98.2 & female & 69 \\\\\n",
       "\t8 & 98.5 & male & 68 \\\\\n",
       "\t9 & 98.0 & male & 64 \\\\\n",
       "\t10 & 98.7 & female & 65 \\\\\n",
       "\t11 & 97.2 & male & 64 \\\\\n",
       "\t12 & 98.4 & female & 79 \\\\\n",
       "\t13 & 97.6 & male & 73 \\\\\n",
       "\t14 & 98.4 & male & 68 \\\\\n",
       "\t15 & 97.8 & female & 71 \\\\\n",
       "\t16 & 98.4 & male & 70 \\\\\n",
       "\t17 & 97.8 & male & 58 \\\\\n",
       "\t18 & 98.8 & female & 73 \\\\\n",
       "\t19 & 98.0 & female & 78 \\\\\n",
       "\t20 & 98.8 & female & 64 \\\\\n",
       "\t21 & 96.4 & female & 69 \\\\\n",
       "\t22 & 97.7 & male & 77 \\\\\n",
       "\t23 & 97.5 & male & 70 \\\\\n",
       "\t24 & 99.0 & male & 75 \\\\\n",
       "\t$\\dots$ & $\\dots$ & $\\dots$ & $\\dots$ \\\\\n",
       "\\end{tabular}\n"
      ],
      "text/plain": [
       "\u001b[1m130×3 DataFrame\u001b[0m\n",
       "\u001b[1m Row \u001b[0m│\u001b[1m bodytemp \u001b[0m\u001b[1m sex     \u001b[0m\u001b[1m heartrate \u001b[0m\n",
       "     │\u001b[90m Float64  \u001b[0m\u001b[90m String7 \u001b[0m\u001b[90m Int64     \u001b[0m\n",
       "─────┼──────────────────────────────\n",
       "   1 │     97.6  female          61\n",
       "   2 │     97.4  male            70\n",
       "   3 │     98.5  male            71\n",
       "   4 │     97.4  female          57\n",
       "   5 │     98.2  male            64\n",
       "   6 │     98.8  female          83\n",
       "   7 │     98.2  female          69\n",
       "   8 │     98.5  male            68\n",
       "  ⋮  │    ⋮         ⋮         ⋮\n",
       " 124 │     99.2  male            83\n",
       " 125 │     98.8  male            78\n",
       " 126 │     98.1  male            73\n",
       " 127 │     98.7  male            78\n",
       " 128 │     98.7  female          64\n",
       " 129 │     96.9  male            74\n",
       " 130 │     98.3  male            72\n",
       "\u001b[36m                    115 rows omitted\u001b[0m"
      ]
     },
     "metadata": {},
     "output_type": "display_data"
    }
   ],
   "source": [
    "using CSV\n",
    "using DataFrames\n",
    "\n",
    "file_contents = CSV.File(path*\"patients.csv\")\n",
    "\n",
    "# Convert the data to a DataFrame\n",
    "df_patients = DataFrame(file_contents)"
   ]
  },
  {
   "cell_type": "code",
   "execution_count": 8,
   "metadata": {},
   "outputs": [
    {
     "name": "stdout",
     "output_type": "stream",
     "text": [
      "\u001b[1m5×3 DataFrame\u001b[0m\n",
      "\u001b[1m Row \u001b[0m│\u001b[1m bodytemp \u001b[0m\u001b[1m sex     \u001b[0m\u001b[1m heartrate \u001b[0m\n",
      "     │\u001b[90m Float64  \u001b[0m\u001b[90m String7 \u001b[0m\u001b[90m Int64     \u001b[0m\n",
      "─────┼──────────────────────────────\n",
      "   1 │     97.6  female          61\n",
      "   2 │     97.4  male            70\n",
      "   3 │     98.5  male            71\n",
      "   4 │     97.4  female          57\n",
      "   5 │     98.2  male            64\n"
     ]
    }
   ],
   "source": [
    "using CSV\n",
    "using DataFrames\n",
    "\n",
    "file_contents = CSV.File(path*\"patients.csv\")\n",
    "\n",
    "# Convert the data to a DataFrame\n",
    "df_patients = DataFrame(file_contents)\n",
    "\n",
    "# Print the first 5 rows of the DataFrame\n",
    "println(first(df_patients, 5))"
   ]
  }
 ],
 "metadata": {
  "kernelspec": {
   "display_name": "Julia 1.8.5",
   "language": "julia",
   "name": "julia-1.8"
  },
  "language_info": {
   "file_extension": ".jl",
   "mimetype": "application/julia",
   "name": "julia",
   "version": "1.8.5"
  },
  "orig_nbformat": 4
 },
 "nbformat": 4,
 "nbformat_minor": 2
}
