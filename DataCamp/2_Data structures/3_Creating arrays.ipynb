{
 "cells": [
  {
   "attachments": {},
   "cell_type": "markdown",
   "metadata": {},
   "source": [
    "# Creating arrays\n",
    "Arrays are a great solution to storing and processing a large amount of data, particularly when that data is all of the same data types.\n",
    "\n",
    "Previously you wrote a script to process your working hours throughout the week. That script would become hard to work with as you gathered more and more data. What if you wanted to process your work hours over an entire month? In this exercise, you will practice creating arrays to store that data.\n",
    "\n",
    "The hours you worked in the previous week:\n",
    "\n",
    "Monday : `9`  Tuesday : `7.5` Wednesday : `8` Thursday : `9.5` Friday : `7`"
   ]
  },
  {
   "cell_type": "code",
   "execution_count": 2,
   "metadata": {},
   "outputs": [
    {
     "name": "stdout",
     "output_type": "stream",
     "text": [
      "Vector{"
     ]
    },
    {
     "name": "stdout",
     "output_type": "stream",
     "text": [
      "String}\n",
      "Vector{Float64}\n"
     ]
    }
   ],
   "source": [
    "# Create array of the days of the week\n",
    "week_days = [\"Monday\",\"Tuesday\",\"Wednesday\",\"Thursday\",\"Friday\"]\n",
    "\n",
    "# Create array of hours worked\n",
    "hours_worked = [9,7.5,8,9.5,7]\n",
    "\n",
    "# Print the type of the week days arrays\n",
    "println(typeof(week_days))\n",
    "\n",
    "# Print the type of the hours worked array\n",
    "println(typeof(hours_worked))"
   ]
  }
 ],
 "metadata": {
  "kernelspec": {
   "display_name": "Julia 1.8.5",
   "language": "julia",
   "name": "julia-1.8"
  },
  "language_info": {
   "file_extension": ".jl",
   "mimetype": "application/julia",
   "name": "julia",
   "version": "1.8.5"
  },
  "orig_nbformat": 4,
  "vscode": {
   "interpreter": {
    "hash": "7824406444212d923fa81ea6d69417b7ddef86b1ecd218c44d304e50b9505925"
   }
  }
 },
 "nbformat": 4,
 "nbformat_minor": 2
}
