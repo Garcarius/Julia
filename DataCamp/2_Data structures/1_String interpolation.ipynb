{
 "cells": [
  {
   "attachments": {},
   "cell_type": "markdown",
   "metadata": {},
   "source": [
    "# String interpolation\n",
    "You are writing a script informing students of their grades in their classes.\n",
    "\n",
    "For each student, you have text data that looks like:\n",
    "\n",
    "`grades = \"XXXX\"`\n",
    "\n",
    "where the letters `\"XXXX\"` are the grades for the student in mathematics, history, science, and drama respectively.\n",
    "\n",
    "The variable grades, which contains the actual student's grades, is available in your environment.\n",
    "\n",
    "* Assign the student's drama grade to the variable drama."
   ]
  },
  {
   "cell_type": "code",
   "execution_count": 2,
   "metadata": {},
   "outputs": [
    {
     "data": {
      "text/plain": [
       "'A': ASCII/Unicode U+0041 (category Lu: Letter, uppercase)"
      ]
     },
     "metadata": {},
     "output_type": "display_data"
    }
   ],
   "source": [
    "grades=\"ABBA\"\n",
    "# Index drama grade\n",
    "drama = grades[4]"
   ]
  },
  {
   "attachments": {},
   "cell_type": "markdown",
   "metadata": {},
   "source": [
    "* Use string interpolation and the variable `drama` to print the message \"Your drama grade is X\" where X is replaced with the actual grade."
   ]
  },
  {
   "cell_type": "code",
   "execution_count": 3,
   "metadata": {},
   "outputs": [
    {
     "name": "stdout",
     "output_type": "stream",
     "text": [
      "Your drama grade is A\n"
     ]
    }
   ],
   "source": [
    "# Index drama grade\n",
    "drama = grades[end]\n",
    "\n",
    "# Print drama grade with interpolation\n",
    "println(\"Your drama grade is $drama\")"
   ]
  },
  {
   "attachments": {},
   "cell_type": "markdown",
   "metadata": {},
   "source": [
    "* Complete the print statement using string interpolation to print the student's mathematics grade without having to define a variable."
   ]
  },
  {
   "cell_type": "code",
   "execution_count": 4,
   "metadata": {},
   "outputs": [
    {
     "name": "stdout",
     "output_type": "stream",
     "text": [
      "Your drama grade is A\n",
      "Your mathematics grade is A\n"
     ]
    }
   ],
   "source": [
    "# Index drama grade\n",
    "drama = grades[end]\n",
    "\n",
    "# Print drama grade with interpolation\n",
    "println(\"Your drama grade is $drama\")\n",
    "\n",
    "# Print mathematics grade with interpolation and parentheses\n",
    "println(\"Your mathematics grade is $(grades[1])\")"
   ]
  }
 ],
 "metadata": {
  "kernelspec": {
   "display_name": "Julia 1.8.5",
   "language": "julia",
   "name": "julia-1.8"
  },
  "language_info": {
   "file_extension": ".jl",
   "mimetype": "application/julia",
   "name": "julia",
   "version": "1.8.5"
  },
  "orig_nbformat": 4
 },
 "nbformat": 4,
 "nbformat_minor": 2
}
