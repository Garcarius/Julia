{
 "cells": [
  {
   "attachments": {},
   "cell_type": "markdown",
   "metadata": {},
   "source": [
    "# Indexing arrays\n",
    "You have kept up your training regime to get faster over 5000m runs. After a few weeks of training regularly, you want to look back at your run times to see if your new times are better than your old ones.\n",
    "\n",
    "The array of floats of your run times is available in your environment as `runtimes`."
   ]
  },
  {
   "cell_type": "code",
   "execution_count": 1,
   "metadata": {},
   "outputs": [
    {
     "data": {
      "text/plain": [
       "11-element Vector{Float64}:\n",
       " 35.1\n",
       " 34.0\n",
       " 34.31\n",
       " 32.8\n",
       " 32.04\n",
       " 33.66\n",
       " 32.41\n",
       " 32.32\n",
       " 33.37\n",
       " 31.61\n",
       " 31.4"
      ]
     },
     "metadata": {},
     "output_type": "display_data"
    }
   ],
   "source": [
    "runtimes =[35.1, 34.0, 34.31, 32.8, 32.04, 33.66, 32.41, 32.32, 33.37, 31.61, 31.4]"
   ]
  },
  {
   "attachments": {},
   "cell_type": "markdown",
   "metadata": {},
   "source": [
    "* Select the first run time and assign it to the variable `first_runtime`.\n",
    "* Select the last run time and assign it to the variable `last_runtime`.\n",
    "* Calculate the difference in times by subtracting the last run time from the first."
   ]
  },
  {
   "cell_type": "code",
   "execution_count": 4,
   "metadata": {},
   "outputs": [
    {
     "name": "stdout",
     "output_type": "stream",
     "text": [
      "Last run time was 3.700000000000003 minutes faster\n"
     ]
    }
   ],
   "source": [
    "# Select the first run time\n",
    "first_runtime = runtimes[1]\n",
    "\n",
    "# Select the last run time\n",
    "last_runtime = runtimes[end]\n",
    "\n",
    "# Calculate the difference\n",
    "time_diff = time_diff = first_runtime - last_runtime\n",
    "\n",
    "println(\"Last run time was $time_diff minutes faster\")"
   ]
  }
 ],
 "metadata": {
  "kernelspec": {
   "display_name": "Julia 1.8.5",
   "language": "julia",
   "name": "julia-1.8"
  },
  "language_info": {
   "file_extension": ".jl",
   "mimetype": "application/julia",
   "name": "julia",
   "version": "1.8.5"
  },
  "orig_nbformat": 4
 },
 "nbformat": 4,
 "nbformat_minor": 2
}
