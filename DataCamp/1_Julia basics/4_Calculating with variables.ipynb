{
 "cells": [
  {
   "attachments": {
    "image.png": {
     "image/png": "[encoded data removed]"
    }
   },
   "cell_type": "markdown",
   "metadata": {},
   "source": [
    "Calculating with variables\n",
    "Now that you have assigned your run times and distances to variables, you want to process these times to calculate your average speed over the two runs.\n",
    "\n",
    "You can calculate the speed using:\n",
    "\n",
    "![image.png](attachment:image.png)\n",
    "\n",
    "The variables `monday_distance`, `wednesday_distance`, `monday_time`, and `wednesday_time` are all available in your environment.\n"
   ]
  },
  {
   "cell_type": "code",
   "execution_count": 1,
   "metadata": {},
   "outputs": [
    {
     "data": {
      "text/plain": [
       "37.1"
      ]
     },
     "execution_count": 1,
     "metadata": {},
     "output_type": "execute_result"
    }
   ],
   "source": [
    "# Create variable monday_distance\n",
    "monday_distance = 4500\n",
    "\n",
    "# Create variable monday_time\n",
    "monday_time = 28.9\n",
    "\n",
    "# Create variable wednesday_distance\n",
    "wednesday_distance = 6000\n",
    "\n",
    "# Create variable wednesday_time\n",
    "wednesday_time = 37.1"
   ]
  },
  {
   "attachments": {},
   "cell_type": "markdown",
   "metadata": {},
   "source": [
    "- Calculate the total miles run by adding `monday_distance` and `wednesday_distance` and dividing their total by **1609**.\n",
    "- Calculate the total number of hours spent running by adding `monday_time` and `wednesday_time` and dividing their total by **60**.\n",
    "- Calculate the average run speed across the two runs in miles per hour.\n",
    "- Print the average run speed."
   ]
  },
  {
   "cell_type": "code",
   "execution_count": 2,
   "metadata": {},
   "outputs": [
    {
     "name": "stdout",
     "output_type": "stream",
     "text": [
      "5.93253856150065\n"
     ]
    }
   ],
   "source": [
    "# Calculate the total distance in miles\n",
    "total_distance = (monday_distance+wednesday_distance)/1609\n",
    "\n",
    "# Calculate the total run time in hours\n",
    "total_time = (monday_time+wednesday_time)/60\n",
    "\n",
    "# Calculate the average speed\n",
    "average_speed = total_distance / total_time\n",
    "\n",
    "# Print the average speed\n",
    "println(average_speed)"
   ]
  }
 ],
 "metadata": {
  "kernelspec": {
   "display_name": "Julia 1.8.5",
   "language": "julia",
   "name": "julia-1.8"
  },
  "language_info": {
   "file_extension": ".jl",
   "mimetype": "application/julia",
   "name": "julia",
   "version": "1.8.5"
  },
  "orig_nbformat": 4
 },
 "nbformat": 4,
 "nbformat_minor": 2
}
