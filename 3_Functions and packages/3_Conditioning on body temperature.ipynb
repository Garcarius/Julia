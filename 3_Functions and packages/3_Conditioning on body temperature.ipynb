{
 "cells": [
  {
   "attachments": {},
   "cell_type": "markdown",
   "metadata": {},
   "source": [
    "# Conditioning on body temperature\n",
    "Let's say you were tasked with programming a diagnostic tool that assesses a patient's body temperature. You want to print warnings if the temperature is too high or too low and a reassuring message if it is just right. In this exercise, you'll write a conditional expression to aid the diagnosis.\n",
    "\n",
    "The float `body_temp`, which is the body temperature in degrees Celsius, is available in your environment.\n",
    "\n",
    "* Print the message `\"Seems a little cold\"` if `body_temp` is less than 35.9.\n",
    "* Print the message `\"Might be a fever\"` if body_temp is more than 37.6.\n",
    "* Print the message `\"The patient's temperature seems normal\"` otherwise"
   ]
  },
  {
   "cell_type": "code",
   "execution_count": 1,
   "metadata": {},
   "outputs": [
    {
     "name": "stdout",
     "output_type": "stream",
     "text": [
      "The patient's temperature seems normal\n",
      "temperature = 36.1\n"
     ]
    }
   ],
   "source": [
    "body_temp = 36.1\n",
    "\n",
    "# Print a warning message if the temperature is too low\n",
    "if body_temp < 35.9\n",
    "\tprintln(\"Seems a little cold\")\n",
    "# Print a warning message if the temperature is too high\n",
    "elseif body_temp > 37.6\n",
    "    println(\"Might be a fever\")\n",
    "# Print the message if the temperature is normal\n",
    "else\n",
    "\tprintln(\"The patient's temperature seems normal\")\n",
    "# Finish the conditional block\n",
    "end\n",
    "\n",
    "println(\"temperature = $body_temp\")\n"
   ]
  }
 ],
 "metadata": {
  "kernelspec": {
   "display_name": "Julia 1.8.5",
   "language": "julia",
   "name": "julia-1.8"
  },
  "language_info": {
   "file_extension": ".jl",
   "mimetype": "application/julia",
   "name": "julia",
   "version": "1.8.5"
  },
  "orig_nbformat": 4
 },
 "nbformat": 4,
 "nbformat_minor": 2
}
